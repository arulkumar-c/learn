{
 "cells": [
  {
   "cell_type": "markdown",
   "id": "c073d8a1",
   "metadata": {},
   "source": [
    "# Binary Tree Codes"
   ]
  },
  {
   "cell_type": "code",
   "execution_count": null,
   "id": "0d5d1689",
   "metadata": {},
   "outputs": [],
   "source": [
    "\"\"\"\n",
    "Python3 program to check if a tree is height-balanced\n",
    "\"\"\"\n",
    "# A binary tree Node\n",
    "\n",
    "\n",
    "class Node:\n",
    "\t# Constructor to create a new Node\n",
    "\tdef __init__(self, data):\n",
    "\t\tself.data = data\n",
    "\t\tself.left = None\n",
    "\t\tself.right = None\n",
    "\n",
    "# function to find height of binary tree\n",
    "\n",
    "\n",
    "def height(root):\n",
    "\n",
    "\t# base condition when binary tree is empty\n",
    "\tif root is None:\n",
    "\t\treturn 0\n",
    "\treturn max(height(root.left), height(root.right)) + 1\n",
    "\n",
    "# function to check if tree is height-balanced or not\n",
    "\n",
    "\n",
    "def isBalanced(root):\n",
    "\n",
    "\t# Base condition\n",
    "\tif root is None:\n",
    "\t\treturn True\n",
    "\n",
    "\t# for left and right subtree height\n",
    "\tlh = height(root.left)\n",
    "\trh = height(root.right)\n",
    "\n",
    "\t# allowed values for (lh - rh) are 1, -1, 0\n",
    "\tif (abs(lh - rh) <= 1) and isBalanced(\n",
    "\t\t\troot.left) is True and isBalanced(root.right) is True:\n",
    "\t\treturn True\n",
    "\n",
    "\t# if we reach here means tree is not\n",
    "\t# height-balanced tree\n",
    "\treturn False\n",
    "\n",
    "\n",
    "# Driver function to test the above function\n",
    "root = Node(1)\n",
    "root.left = Node(2)\n",
    "root.right = Node(3)\n",
    "root.left.left = Node(4)\n",
    "root.left.right = Node(5)\n",
    "root.left.left.left = Node(8)\n",
    "if isBalanced(root):\n",
    "\tprint(\"Tree is balanced\")\n",
    "else:\n",
    "\tprint(\"Tree is not balanced\")\n",
    "\n",
    "# This code is contributed by Shweta Singh\n",
    "\n"
   ]
  }
 ],
 "metadata": {
  "kernelspec": {
   "display_name": "Python 3 (ipykernel)",
   "language": "python",
   "name": "python3"
  },
  "language_info": {
   "codemirror_mode": {
    "name": "ipython",
    "version": 3
   },
   "file_extension": ".py",
   "mimetype": "text/x-python",
   "name": "python",
   "nbconvert_exporter": "python",
   "pygments_lexer": "ipython3",
   "version": "3.9.6"
  }
 },
 "nbformat": 4,
 "nbformat_minor": 5
}
