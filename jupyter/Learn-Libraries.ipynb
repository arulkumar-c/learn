{
 "cells": [
  {
   "cell_type": "markdown",
   "id": "f537b657",
   "metadata": {
    "slideshow": {
     "slide_type": "slide"
    }
   },
   "source": [
    "# Learn Libraries"
   ]
  },
  {
   "cell_type": "code",
   "execution_count": null,
   "id": "aac8bbfb",
   "metadata": {
    "slideshow": {
     "slide_type": "subslide"
    }
   },
   "outputs": [],
   "source": [
    "import itertools"
   ]
  },
  {
   "cell_type": "code",
   "execution_count": 13,
   "id": "7aebc0b4",
   "metadata": {
    "slideshow": {
     "slide_type": "subslide"
    }
   },
   "outputs": [
    {
     "name": "stdout",
     "output_type": "stream",
     "text": [
      "z_xy = <zip object at 0x1110aefc0>\n",
      "list(z_xy) = [(0, 19), (1, 18), (2, 17), (3, 16), (4, 15), (5, 14), (6, 13), (7, 12), (8, 11), (9, 10)]\n",
      "list(z_xy) = []\n"
     ]
    }
   ],
   "source": [
    "x = [0,1,2,3,4,5,6,7,8,9]\n",
    "y = [19,18,17,16,15,14,13,12,11,10]\n",
    "\n",
    "z_xy = zip(x, y)\n",
    "\n",
    "print(f'z_xy = {z_xy}')\n",
    "print(f'list(z_xy) = {list(z_xy)}')\n",
    "print(f'list(z_xy) = {list(z_xy)}')"
   ]
  },
  {
   "cell_type": "code",
   "execution_count": 5,
   "id": "22c25192",
   "metadata": {
    "slideshow": {
     "slide_type": "subslide"
    }
   },
   "outputs": [
    {
     "name": "stdout",
     "output_type": "stream",
     "text": [
      "z_ab = <zip object at 0x11106fac0>\n",
      "list(z_ab) = [(20, 10), (21, 11), (22, 12), (23, 13), (24, 14), (25, 15), (26, 16), (27, 17), (28, 18), (29, 19)]\n"
     ]
    }
   ],
   "source": [
    "a = {20,21,22,23,24,25,26,27,28,29}\n",
    "b = {19,18,17,16,15,14,13,12,11,10}\n",
    "\n",
    "z_ab = zip(a, b)\n",
    "\n",
    "print(f'z_ab = {z_ab}')\n",
    "print(f'list(z_ab) = {list(z_ab)}')"
   ]
  },
  {
   "cell_type": "code",
   "execution_count": 17,
   "id": "9ee1ec7e",
   "metadata": {
    "slideshow": {
     "slide_type": "subslide"
    }
   },
   "outputs": [
    {
     "name": "stdout",
     "output_type": "stream",
     "text": [
      "list_z_xy1 = [(0, 19), (1, 18), (2, 17), (3, 16), (4, 15), (5, 14), (6, 13), (7, 12), (8, 11), (9, 10)]\n",
      "uz_xy1 = <zip object at 0x1110aea00>\n",
      "list_uz_xy1 = [(0, 1, 2, 3, 4, 5, 6, 7, 8, 9), (19, 18, 17, 16, 15, 14, 13, 12, 11, 10)]\n"
     ]
    }
   ],
   "source": [
    "x = [0,1,2,3,4,5,6,7,8,9]\n",
    "y = [19,18,17,16,15,14,13,12,11,10]\n",
    "\n",
    "z_xy1 = zip(x, y)\n",
    "\n",
    "list_z_xy1 = list(z_xy1)\n",
    "print(f'list_z_xy1 = {list_z_xy1}')\n",
    "\n",
    "uz_xy1 = zip(*list_z_xy1)\n",
    "print(f'uz_xy1 = {uz_xy1}')\n",
    "\n",
    "list_uz_xy1 = list(uz_xy1)\n",
    "print(f'list_uz_xy1 = {list_uz_xy1}')"
   ]
  },
  {
   "cell_type": "markdown",
   "id": "67ba4ceb",
   "metadata": {},
   "source": [
    "## timeit - package"
   ]
  },
  {
   "cell_type": "code",
   "execution_count": 18,
   "id": "8d3ff402",
   "metadata": {},
   "outputs": [],
   "source": [
    "import timeit"
   ]
  },
  {
   "cell_type": "code",
   "execution_count": 19,
   "id": "c00d1ecb",
   "metadata": {},
   "outputs": [
    {
     "data": {
      "text/plain": [
       "30.691363131001708"
      ]
     },
     "execution_count": 19,
     "metadata": {},
     "output_type": "execute_result"
    }
   ],
   "source": [
    "timeit.timeit('\"-\".join(str(n) for n in range(100))')"
   ]
  },
  {
   "cell_type": "code",
   "execution_count": 20,
   "id": "036dafc6",
   "metadata": {},
   "outputs": [
    {
     "data": {
      "text/plain": [
       "0.00035916899651056156"
      ]
     },
     "execution_count": 20,
     "metadata": {},
     "output_type": "execute_result"
    }
   ],
   "source": [
    "timeit.timeit('\"-\".join(str(n) for n in range(100))', number=10)"
   ]
  },
  {
   "cell_type": "code",
   "execution_count": 21,
   "id": "fb15ad2f",
   "metadata": {},
   "outputs": [
    {
     "data": {
      "text/plain": [
       "3.995600127382204e-05"
      ]
     },
     "execution_count": 21,
     "metadata": {},
     "output_type": "execute_result"
    }
   ],
   "source": [
    "timeit.timeit('\"-\".join(str(n) for n in range(100))', number=1)"
   ]
  },
  {
   "cell_type": "code",
   "execution_count": 23,
   "id": "fbebb8d8",
   "metadata": {
    "scrolled": true
   },
   "outputs": [
    {
     "name": "stdout",
     "output_type": "stream",
     "text": [
      "A\n",
      "A\n",
      "A\n",
      "A\n",
      "A\n",
      "A\n",
      "A\n",
      "A\n",
      "A\n",
      "A\n"
     ]
    },
    {
     "data": {
      "text/plain": [
       "0.0001979849985218607"
      ]
     },
     "execution_count": 23,
     "metadata": {},
     "output_type": "execute_result"
    }
   ],
   "source": [
    "timeit.timeit(\"print('A')\", number=10)"
   ]
  },
  {
   "cell_type": "code",
   "execution_count": 24,
   "id": "4fc5a3b3",
   "metadata": {
    "scrolled": true
   },
   "outputs": [
    {
     "name": "stdout",
     "output_type": "stream",
     "text": [
      "AB\n",
      "AB\n",
      "AB\n",
      "AB\n",
      "AB\n",
      "AB\n",
      "AB\n",
      "AB\n",
      "AB\n",
      "AB\n"
     ]
    },
    {
     "data": {
      "text/plain": [
       "0.0003264159968239255"
      ]
     },
     "execution_count": 24,
     "metadata": {},
     "output_type": "execute_result"
    }
   ],
   "source": [
    "timeit.timeit(\"print('AB')\", number=10)"
   ]
  },
  {
   "cell_type": "code",
   "execution_count": null,
   "id": "70a328db",
   "metadata": {},
   "outputs": [],
   "source": []
  }
 ],
 "metadata": {
  "kernelspec": {
   "display_name": "Python 3 (ipykernel)",
   "language": "python",
   "name": "python3"
  },
  "language_info": {
   "codemirror_mode": {
    "name": "ipython",
    "version": 3
   },
   "file_extension": ".py",
   "mimetype": "text/x-python",
   "name": "python",
   "nbconvert_exporter": "python",
   "pygments_lexer": "ipython3",
   "version": "3.9.6"
  }
 },
 "nbformat": 4,
 "nbformat_minor": 5
}
