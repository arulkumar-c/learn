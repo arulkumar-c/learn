{
 "cells": [
  {
   "cell_type": "markdown",
   "id": "3ca8752e",
   "metadata": {},
   "source": [
    "# This is to demo positional argument and keyword argument"
   ]
  },
  {
   "cell_type": "code",
   "execution_count": 13,
   "id": "ab12c524",
   "metadata": {},
   "outputs": [
    {
     "name": "stdout",
     "output_type": "stream",
     "text": [
      "Python 3.9.6\r\n"
     ]
    }
   ],
   "source": [
    "!python3 --version"
   ]
  },
  {
   "cell_type": "markdown",
   "id": "212257c6",
   "metadata": {},
   "source": [
    "## Variable number of args at the time of calling function."
   ]
  },
  {
   "cell_type": "code",
   "execution_count": 53,
   "id": "ed20877c",
   "metadata": {},
   "outputs": [
    {
     "name": "stdout",
     "output_type": "stream",
     "text": [
      "add(1, 2, 3, 4, 5) = 15\n",
      "add(1, 2, 3, 4, 5, 6) = 21\n",
      "add(*in_list_5) = 15\n",
      "add(*in_list_6) = 21\n"
     ]
    }
   ],
   "source": [
    "def add (a: int, b: int, c: int, d: int, e: int, f: int = 0) -> int:\n",
    "    return (a + b + c + d + e + f)\n",
    "\n",
    "print(\"add(1, 2, 3, 4, 5) =\", add(1, 2, 3, 4, 5))\n",
    "\n",
    "print(\"add(1, 2, 3, 4, 5, 6) =\", add(1, 2, 3, 4, 5, 6))\n",
    "\n",
    "in_list_5 = [1, 2, 3, 4, 5]\n",
    "print(\"add(*in_list_5) =\", add(*in_list_5))\n",
    "\n",
    "in_list_6 = [1, 2, 3, 4, 5, 6]\n",
    "print(\"add(*in_list_6) =\", add(*in_list_6))\n"
   ]
  },
  {
   "cell_type": "code",
   "execution_count": 17,
   "id": "4de1ef15",
   "metadata": {},
   "outputs": [
    {
     "ename": "TypeError",
     "evalue": "add() takes from 5 to 6 positional arguments but 7 were given",
     "output_type": "error",
     "traceback": [
      "\u001b[0;31m---------------------------------------------------------------------------\u001b[0m",
      "\u001b[0;31mTypeError\u001b[0m                                 Traceback (most recent call last)",
      "Cell \u001b[0;32mIn [17], line 4\u001b[0m\n\u001b[1;32m      1\u001b[0m \u001b[38;5;28;01mdef\u001b[39;00m \u001b[38;5;21madd\u001b[39m (a: \u001b[38;5;28mint\u001b[39m, b: \u001b[38;5;28mint\u001b[39m, c: \u001b[38;5;28mint\u001b[39m, d: \u001b[38;5;28mint\u001b[39m, e: \u001b[38;5;28mint\u001b[39m, f: \u001b[38;5;28mint\u001b[39m \u001b[38;5;241m=\u001b[39m \u001b[38;5;241m0\u001b[39m) \u001b[38;5;241m-\u001b[39m\u001b[38;5;241m>\u001b[39m \u001b[38;5;28mint\u001b[39m:\n\u001b[1;32m      2\u001b[0m     \u001b[38;5;28;01mreturn\u001b[39;00m (a \u001b[38;5;241m+\u001b[39m b \u001b[38;5;241m+\u001b[39m c \u001b[38;5;241m+\u001b[39m d \u001b[38;5;241m+\u001b[39m e \u001b[38;5;241m+\u001b[39m f)\n\u001b[0;32m----> 4\u001b[0m \u001b[38;5;28mprint\u001b[39m(\u001b[38;5;124m\"\u001b[39m\u001b[38;5;124madd(1, 2, 3, 4, 5, 6, 7) =\u001b[39m\u001b[38;5;124m\"\u001b[39m, \u001b[43madd\u001b[49m\u001b[43m(\u001b[49m\u001b[38;5;241;43m1\u001b[39;49m\u001b[43m,\u001b[49m\u001b[43m \u001b[49m\u001b[38;5;241;43m2\u001b[39;49m\u001b[43m,\u001b[49m\u001b[43m \u001b[49m\u001b[38;5;241;43m3\u001b[39;49m\u001b[43m,\u001b[49m\u001b[43m \u001b[49m\u001b[38;5;241;43m4\u001b[39;49m\u001b[43m,\u001b[49m\u001b[43m \u001b[49m\u001b[38;5;241;43m5\u001b[39;49m\u001b[43m,\u001b[49m\u001b[43m \u001b[49m\u001b[38;5;241;43m6\u001b[39;49m\u001b[43m,\u001b[49m\u001b[43m \u001b[49m\u001b[38;5;241;43m7\u001b[39;49m\u001b[43m)\u001b[49m)\n",
      "\u001b[0;31mTypeError\u001b[0m: add() takes from 5 to 6 positional arguments but 7 were given"
     ]
    }
   ],
   "source": [
    "def add (a: int, b: int, c: int, d: int, e: int, f: int = 0) -> int:\n",
    "    return (a + b + c + d + e + f)\n",
    "\n",
    "print(\"add(1, 2, 3, 4, 5, 6, 7) =\", add(1, 2, 3, 4, 5, 6, 7))"
   ]
  },
  {
   "cell_type": "code",
   "execution_count": 54,
   "id": "58ef592d",
   "metadata": {},
   "outputs": [
    {
     "ename": "TypeError",
     "evalue": "add() takes from 5 to 6 positional arguments but 7 were given",
     "output_type": "error",
     "traceback": [
      "\u001b[0;31m---------------------------------------------------------------------------\u001b[0m",
      "\u001b[0;31mTypeError\u001b[0m                                 Traceback (most recent call last)",
      "Cell \u001b[0;32mIn [54], line 5\u001b[0m\n\u001b[1;32m      2\u001b[0m     \u001b[38;5;28;01mreturn\u001b[39;00m (a \u001b[38;5;241m+\u001b[39m b \u001b[38;5;241m+\u001b[39m c \u001b[38;5;241m+\u001b[39m d \u001b[38;5;241m+\u001b[39m e \u001b[38;5;241m+\u001b[39m f)\n\u001b[1;32m      4\u001b[0m in_list_7 \u001b[38;5;241m=\u001b[39m [\u001b[38;5;241m1\u001b[39m, \u001b[38;5;241m2\u001b[39m, \u001b[38;5;241m3\u001b[39m, \u001b[38;5;241m4\u001b[39m, \u001b[38;5;241m5\u001b[39m, \u001b[38;5;241m6\u001b[39m, \u001b[38;5;241m7\u001b[39m]\n\u001b[0;32m----> 5\u001b[0m \u001b[38;5;28mprint\u001b[39m(\u001b[38;5;124m\"\u001b[39m\u001b[38;5;124madd(*in_list_7) =\u001b[39m\u001b[38;5;124m\"\u001b[39m, \u001b[43madd\u001b[49m\u001b[43m(\u001b[49m\u001b[38;5;241;43m*\u001b[39;49m\u001b[43min_list_7\u001b[49m\u001b[43m)\u001b[49m)\n",
      "\u001b[0;31mTypeError\u001b[0m: add() takes from 5 to 6 positional arguments but 7 were given"
     ]
    }
   ],
   "source": [
    "def add (a: int, b: int, c: int, d: int, e: int, f: int = 0) -> int:\n",
    "    return (a + b + c + d + e + f)\n",
    "\n",
    "in_list_7 = [1, 2, 3, 4, 5, 6, 7]\n",
    "print(\"add(*in_list_7) =\", add(*in_list_7))\n"
   ]
  },
  {
   "cell_type": "code",
   "execution_count": 20,
   "id": "ac7badda",
   "metadata": {},
   "outputs": [
    {
     "name": "stdout",
     "output_type": "stream",
     "text": [
      "add(*range(5)) = 10\n",
      "add(*range(6)) = 15\n"
     ]
    }
   ],
   "source": [
    "def add (a: int, b: int, c: int, d: int, e: int, f: int = 0) -> int:\n",
    "    return (a + b + c + d + e + f)\n",
    "\n",
    "print(\"add(*range(5)) =\", add(*range(5)))\n",
    "print(\"add(*range(6)) =\", add(*range(6)))\n"
   ]
  },
  {
   "cell_type": "code",
   "execution_count": 21,
   "id": "4b9a22b2",
   "metadata": {
    "scrolled": true
   },
   "outputs": [
    {
     "ename": "TypeError",
     "evalue": "add() takes from 5 to 6 positional arguments but 7 were given",
     "output_type": "error",
     "traceback": [
      "\u001b[0;31m---------------------------------------------------------------------------\u001b[0m",
      "\u001b[0;31mTypeError\u001b[0m                                 Traceback (most recent call last)",
      "Cell \u001b[0;32mIn [21], line 4\u001b[0m\n\u001b[1;32m      1\u001b[0m \u001b[38;5;28;01mdef\u001b[39;00m \u001b[38;5;21madd\u001b[39m (a: \u001b[38;5;28mint\u001b[39m, b: \u001b[38;5;28mint\u001b[39m, c: \u001b[38;5;28mint\u001b[39m, d: \u001b[38;5;28mint\u001b[39m, e: \u001b[38;5;28mint\u001b[39m, f: \u001b[38;5;28mint\u001b[39m \u001b[38;5;241m=\u001b[39m \u001b[38;5;241m0\u001b[39m) \u001b[38;5;241m-\u001b[39m\u001b[38;5;241m>\u001b[39m \u001b[38;5;28mint\u001b[39m:\n\u001b[1;32m      2\u001b[0m     \u001b[38;5;28;01mreturn\u001b[39;00m (a \u001b[38;5;241m+\u001b[39m b \u001b[38;5;241m+\u001b[39m c \u001b[38;5;241m+\u001b[39m d \u001b[38;5;241m+\u001b[39m e \u001b[38;5;241m+\u001b[39m f)\n\u001b[0;32m----> 4\u001b[0m \u001b[38;5;28mprint\u001b[39m(\u001b[38;5;124m\"\u001b[39m\u001b[38;5;124madd(*range(7)) =\u001b[39m\u001b[38;5;124m\"\u001b[39m, \u001b[43madd\u001b[49m\u001b[43m(\u001b[49m\u001b[38;5;241;43m*\u001b[39;49m\u001b[38;5;28;43mrange\u001b[39;49m\u001b[43m(\u001b[49m\u001b[38;5;241;43m7\u001b[39;49m\u001b[43m)\u001b[49m\u001b[43m)\u001b[49m)\n",
      "\u001b[0;31mTypeError\u001b[0m: add() takes from 5 to 6 positional arguments but 7 were given"
     ]
    }
   ],
   "source": [
    "def add (a: int, b: int, c: int, d: int, e: int, f: int = 0) -> int:\n",
    "    return (a + b + c + d + e + f)\n",
    "\n",
    "print(\"add(*range(7)) =\", add(*range(7)))"
   ]
  },
  {
   "cell_type": "code",
   "execution_count": 23,
   "id": "413cabde",
   "metadata": {},
   "outputs": [
    {
     "name": "stdout",
     "output_type": "stream",
     "text": [
      "add(in_tup_5) = 15\n",
      "add(in_tup_6) = 21\n"
     ]
    }
   ],
   "source": [
    "def add (a: int, b: int, c: int, d: int, e: int, f: int = 0) -> int:\n",
    "    return (a + b + c + d + e + f)\n",
    "\n",
    "in_tup_5 = (1, 2, 3, 4, 5)\n",
    "print(\"add(in_tup_5) =\", add(*in_tup_5))\n",
    "\n",
    "in_tup_6 = (1, 2, 3, 4, 5, 6)\n",
    "print(\"add(in_tup_6) =\", add(*in_tup_6))\n"
   ]
  },
  {
   "cell_type": "code",
   "execution_count": 24,
   "id": "256f1992",
   "metadata": {},
   "outputs": [
    {
     "ename": "TypeError",
     "evalue": "add() takes from 5 to 6 positional arguments but 7 were given",
     "output_type": "error",
     "traceback": [
      "\u001b[0;31m---------------------------------------------------------------------------\u001b[0m",
      "\u001b[0;31mTypeError\u001b[0m                                 Traceback (most recent call last)",
      "Cell \u001b[0;32mIn [24], line 5\u001b[0m\n\u001b[1;32m      2\u001b[0m     \u001b[38;5;28;01mreturn\u001b[39;00m (a \u001b[38;5;241m+\u001b[39m b \u001b[38;5;241m+\u001b[39m c \u001b[38;5;241m+\u001b[39m d \u001b[38;5;241m+\u001b[39m e \u001b[38;5;241m+\u001b[39m f)\n\u001b[1;32m      4\u001b[0m in_tup_7 \u001b[38;5;241m=\u001b[39m (\u001b[38;5;241m1\u001b[39m, \u001b[38;5;241m2\u001b[39m, \u001b[38;5;241m3\u001b[39m, \u001b[38;5;241m4\u001b[39m, \u001b[38;5;241m5\u001b[39m, \u001b[38;5;241m6\u001b[39m, \u001b[38;5;241m7\u001b[39m)\n\u001b[0;32m----> 5\u001b[0m \u001b[38;5;28mprint\u001b[39m(\u001b[38;5;124m\"\u001b[39m\u001b[38;5;124madd(in_tup_7) =\u001b[39m\u001b[38;5;124m\"\u001b[39m, \u001b[43madd\u001b[49m\u001b[43m(\u001b[49m\u001b[38;5;241;43m*\u001b[39;49m\u001b[43min_tup_7\u001b[49m\u001b[43m)\u001b[49m)\n",
      "\u001b[0;31mTypeError\u001b[0m: add() takes from 5 to 6 positional arguments but 7 were given"
     ]
    }
   ],
   "source": [
    "def add (a: int, b: int, c: int, d: int, e: int, f: int = 0) -> int:\n",
    "    return (a + b + c + d + e + f)\n",
    "\n",
    "in_tup_7 = (1, 2, 3, 4, 5, 6, 7)\n",
    "print(\"add(in_tup_7) =\", add(*in_tup_7))"
   ]
  },
  {
   "cell_type": "code",
   "execution_count": 25,
   "id": "1c4190fb",
   "metadata": {
    "scrolled": true
   },
   "outputs": [
    {
     "ename": "SyntaxError",
     "evalue": "invalid syntax (4247917447.py, line 1)",
     "output_type": "error",
     "traceback": [
      "\u001b[0;36m  Cell \u001b[0;32mIn [25], line 1\u001b[0;36m\u001b[0m\n\u001b[0;31m    def add (a: int, b: int, c: int, d: int, e: int, *, f: int = 100, /, g: int = 101) -> int:\u001b[0m\n\u001b[0m                                                                      ^\u001b[0m\n\u001b[0;31mSyntaxError\u001b[0m\u001b[0;31m:\u001b[0m invalid syntax\n"
     ]
    }
   ],
   "source": [
    "def add (a: int, b: int, c: int, d: int, e: int, *, f: int = 100, /, g: int = 101) -> int:\n",
    "    return (a + b + c + d + e + f + g)\n",
    "\n",
    "in_tup_7 = (1, 2, 3, 4, 5, 6, 7)\n",
    "print(\"add(in_tup_7) =\", add(*in_tup_7))"
   ]
  },
  {
   "cell_type": "code",
   "execution_count": 51,
   "id": "4e6d4833",
   "metadata": {
    "scrolled": false
   },
   "outputs": [
    {
     "name": "stdout",
     "output_type": "stream",
     "text": [
      "add(*in_tup_5) = 216\n"
     ]
    }
   ],
   "source": [
    "def add (a: int, b: int, c: int, d: int, /, e: int, *, f: int = 100, g: int = 101) -> int:\n",
    "    return (a + b + c + d + e + f + g)\n",
    "\n",
    "in_tup_5 = (1, 2, 3, 4, 5)\n",
    "print(\"add(*in_tup_5) =\", add(*in_tup_5))"
   ]
  },
  {
   "cell_type": "code",
   "execution_count": 52,
   "id": "08fb28d4",
   "metadata": {
    "scrolled": false
   },
   "outputs": [
    {
     "ename": "TypeError",
     "evalue": "add() missing 4 required positional arguments: 'b', 'c', 'd', and 'e'",
     "output_type": "error",
     "traceback": [
      "\u001b[0;31m---------------------------------------------------------------------------\u001b[0m",
      "\u001b[0;31mTypeError\u001b[0m                                 Traceback (most recent call last)",
      "Cell \u001b[0;32mIn [52], line 5\u001b[0m\n\u001b[1;32m      2\u001b[0m     \u001b[38;5;28;01mreturn\u001b[39;00m (a \u001b[38;5;241m+\u001b[39m b \u001b[38;5;241m+\u001b[39m c \u001b[38;5;241m+\u001b[39m d \u001b[38;5;241m+\u001b[39m e \u001b[38;5;241m+\u001b[39m f \u001b[38;5;241m+\u001b[39m g)\n\u001b[1;32m      4\u001b[0m in_tup_5 \u001b[38;5;241m=\u001b[39m (\u001b[38;5;241m1\u001b[39m, \u001b[38;5;241m2\u001b[39m, \u001b[38;5;241m3\u001b[39m, \u001b[38;5;241m4\u001b[39m, \u001b[38;5;241m5\u001b[39m)\n\u001b[0;32m----> 5\u001b[0m \u001b[38;5;28mprint\u001b[39m(\u001b[38;5;124m\"\u001b[39m\u001b[38;5;124madd(in_tup_5) =\u001b[39m\u001b[38;5;124m\"\u001b[39m, \u001b[43madd\u001b[49m\u001b[43m(\u001b[49m\u001b[43min_tup_5\u001b[49m\u001b[43m)\u001b[49m)\n",
      "\u001b[0;31mTypeError\u001b[0m: add() missing 4 required positional arguments: 'b', 'c', 'd', and 'e'"
     ]
    }
   ],
   "source": [
    "def add (a: int, b: int, c: int, d: int, /, e: int, *, f: int = 100, g: int = 101) -> int:\n",
    "    return (a + b + c + d + e + f + g)\n",
    "\n",
    "in_tup_5 = (1, 2, 3, 4, 5)\n",
    "print(\"add(in_tup_5) =\", add(in_tup_5))"
   ]
  },
  {
   "cell_type": "code",
   "execution_count": 26,
   "id": "9a9d3ca7",
   "metadata": {
    "scrolled": false
   },
   "outputs": [
    {
     "ename": "TypeError",
     "evalue": "add() takes 5 positional arguments but 7 were given",
     "output_type": "error",
     "traceback": [
      "\u001b[0;31m---------------------------------------------------------------------------\u001b[0m",
      "\u001b[0;31mTypeError\u001b[0m                                 Traceback (most recent call last)",
      "Cell \u001b[0;32mIn [26], line 5\u001b[0m\n\u001b[1;32m      2\u001b[0m     \u001b[38;5;28;01mreturn\u001b[39;00m (a \u001b[38;5;241m+\u001b[39m b \u001b[38;5;241m+\u001b[39m c \u001b[38;5;241m+\u001b[39m d \u001b[38;5;241m+\u001b[39m e \u001b[38;5;241m+\u001b[39m f \u001b[38;5;241m+\u001b[39m g)\n\u001b[1;32m      4\u001b[0m in_tup_7 \u001b[38;5;241m=\u001b[39m (\u001b[38;5;241m1\u001b[39m, \u001b[38;5;241m2\u001b[39m, \u001b[38;5;241m3\u001b[39m, \u001b[38;5;241m4\u001b[39m, \u001b[38;5;241m5\u001b[39m, \u001b[38;5;241m6\u001b[39m, \u001b[38;5;241m7\u001b[39m)\n\u001b[0;32m----> 5\u001b[0m \u001b[38;5;28mprint\u001b[39m(\u001b[38;5;124m\"\u001b[39m\u001b[38;5;124madd(in_tup_7) =\u001b[39m\u001b[38;5;124m\"\u001b[39m, \u001b[43madd\u001b[49m\u001b[43m(\u001b[49m\u001b[38;5;241;43m*\u001b[39;49m\u001b[43min_tup_7\u001b[49m\u001b[43m)\u001b[49m)\n",
      "\u001b[0;31mTypeError\u001b[0m: add() takes 5 positional arguments but 7 were given"
     ]
    }
   ],
   "source": [
    "def add (a: int, b: int, c: int, d: int, /, e: int, *, f: int = 100, g: int = 101) -> int:\n",
    "    return (a + b + c + d + e + f + g)\n",
    "\n",
    "in_tup_7 = (1, 2, 3, 4, 5, 6, 7)\n",
    "print(\"add(in_tup_7) =\", add(*in_tup_7))"
   ]
  },
  {
   "cell_type": "code",
   "execution_count": 30,
   "id": "dcc50ea6",
   "metadata": {
    "scrolled": false
   },
   "outputs": [
    {
     "ename": "TypeError",
     "evalue": "add() takes 4 positional arguments but 5 were given",
     "output_type": "error",
     "traceback": [
      "\u001b[0;31m---------------------------------------------------------------------------\u001b[0m",
      "\u001b[0;31mTypeError\u001b[0m                                 Traceback (most recent call last)",
      "Cell \u001b[0;32mIn [30], line 5\u001b[0m\n\u001b[1;32m      2\u001b[0m     \u001b[38;5;28;01mreturn\u001b[39;00m (a \u001b[38;5;241m+\u001b[39m b \u001b[38;5;241m+\u001b[39m c \u001b[38;5;241m+\u001b[39m d \u001b[38;5;241m+\u001b[39m e \u001b[38;5;241m+\u001b[39m f \u001b[38;5;241m+\u001b[39m g)\n\u001b[1;32m      4\u001b[0m in_tup_5 \u001b[38;5;241m=\u001b[39m (\u001b[38;5;241m1\u001b[39m, \u001b[38;5;241m2\u001b[39m, \u001b[38;5;241m3\u001b[39m, \u001b[38;5;241m4\u001b[39m, \u001b[38;5;241m5\u001b[39m)\n\u001b[0;32m----> 5\u001b[0m \u001b[38;5;28mprint\u001b[39m(\u001b[38;5;124m\"\u001b[39m\u001b[38;5;124madd(in_tup_5) =\u001b[39m\u001b[38;5;124m\"\u001b[39m, \u001b[43madd\u001b[49m\u001b[43m(\u001b[49m\u001b[38;5;241;43m*\u001b[39;49m\u001b[43min_tup_5\u001b[49m\u001b[43m)\u001b[49m)\n",
      "\u001b[0;31mTypeError\u001b[0m: add() takes 4 positional arguments but 5 were given"
     ]
    }
   ],
   "source": [
    "def add (a: int, b: int, c: int, d: int, *, e: int, f: int = 100, g: int = 101) -> int:\n",
    "    return (a + b + c + d + e + f + g)\n",
    "\n",
    "in_tup_5 = (1, 2, 3, 4, 5)\n",
    "print(\"add(in_tup_5) =\", add(*in_tup_5))"
   ]
  },
  {
   "cell_type": "code",
   "execution_count": 47,
   "id": "ea28a65e",
   "metadata": {
    "scrolled": false
   },
   "outputs": [
    {
     "ename": "TypeError",
     "evalue": "add() missing 1 required keyword-only argument: 'e'",
     "output_type": "error",
     "traceback": [
      "\u001b[0;31m---------------------------------------------------------------------------\u001b[0m",
      "\u001b[0;31mTypeError\u001b[0m                                 Traceback (most recent call last)",
      "Cell \u001b[0;32mIn [47], line 5\u001b[0m\n\u001b[1;32m      2\u001b[0m     \u001b[38;5;28;01mreturn\u001b[39;00m (a \u001b[38;5;241m+\u001b[39m b \u001b[38;5;241m+\u001b[39m c \u001b[38;5;241m+\u001b[39m d \u001b[38;5;241m+\u001b[39m e \u001b[38;5;241m+\u001b[39m f \u001b[38;5;241m+\u001b[39m g)\n\u001b[1;32m      4\u001b[0m in_tup_4 \u001b[38;5;241m=\u001b[39m (\u001b[38;5;241m1\u001b[39m, \u001b[38;5;241m2\u001b[39m, \u001b[38;5;241m3\u001b[39m, \u001b[38;5;241m4\u001b[39m)\n\u001b[0;32m----> 5\u001b[0m \u001b[38;5;28mprint\u001b[39m(\u001b[38;5;124m\"\u001b[39m\u001b[38;5;124madd(in_tup_4) =\u001b[39m\u001b[38;5;124m\"\u001b[39m, \u001b[43madd\u001b[49m\u001b[43m(\u001b[49m\u001b[38;5;241;43m*\u001b[39;49m\u001b[43min_tup_4\u001b[49m\u001b[43m)\u001b[49m)\n",
      "\u001b[0;31mTypeError\u001b[0m: add() missing 1 required keyword-only argument: 'e'"
     ]
    }
   ],
   "source": [
    "def add (a: int, b: int, c: int, d: int, *, e: int, f: int = 100, g: int = 101) -> int:\n",
    "    return (a + b + c + d + e + f + g)\n",
    "\n",
    "in_tup_4 = (1, 2, 3, 4)\n",
    "print(\"add(in_tup_4) =\", add(*in_tup_4))"
   ]
  },
  {
   "cell_type": "code",
   "execution_count": 48,
   "id": "36a5be41",
   "metadata": {
    "scrolled": false
   },
   "outputs": [
    {
     "name": "stdout",
     "output_type": "stream",
     "text": [
      "add(in_tup_4) = 231\n"
     ]
    }
   ],
   "source": [
    "def add (a: int, b: int, c: int, d: int, e: int, *, f: int = 100, g: int = 101) -> int:\n",
    "    return (a + b + c + d + e + f + g)\n",
    "\n",
    "in_tup_4 = (1, 2, 3, 4)\n",
    "print(\"add(in_tup_4) =\", add(*in_tup_4, 20))"
   ]
  },
  {
   "cell_type": "code",
   "execution_count": 49,
   "id": "ae18d932",
   "metadata": {
    "scrolled": false
   },
   "outputs": [
    {
     "name": "stdout",
     "output_type": "stream",
     "text": [
      "add(in_tup_4) = 231\n"
     ]
    }
   ],
   "source": [
    "def add (a: int, b: int, c: int, d: int, *, e: int, f: int = 100, g: int = 101) -> int:\n",
    "    return (a + b + c + d + e + f + g)\n",
    "\n",
    "in_tup_4 = (1, 2, 3, 4)\n",
    "print(\"add(in_tup_4) =\", add(*in_tup_4, e=20))"
   ]
  },
  {
   "cell_type": "code",
   "execution_count": 50,
   "id": "823196c1",
   "metadata": {
    "scrolled": false
   },
   "outputs": [
    {
     "ename": "TypeError",
     "evalue": "add() got multiple values for argument 'e'",
     "output_type": "error",
     "traceback": [
      "\u001b[0;31m---------------------------------------------------------------------------\u001b[0m",
      "\u001b[0;31mTypeError\u001b[0m                                 Traceback (most recent call last)",
      "Cell \u001b[0;32mIn [50], line 6\u001b[0m\n\u001b[1;32m      4\u001b[0m in_tup_4 \u001b[38;5;241m=\u001b[39m (\u001b[38;5;241m1\u001b[39m, \u001b[38;5;241m2\u001b[39m, \u001b[38;5;241m3\u001b[39m, \u001b[38;5;241m4\u001b[39m)\n\u001b[1;32m      5\u001b[0m dict_efg \u001b[38;5;241m=\u001b[39m {\u001b[38;5;124m'\u001b[39m\u001b[38;5;124mg\u001b[39m\u001b[38;5;124m'\u001b[39m:\u001b[38;5;241m43\u001b[39m, \u001b[38;5;124m'\u001b[39m\u001b[38;5;124mf\u001b[39m\u001b[38;5;124m'\u001b[39m:\u001b[38;5;241m23\u001b[39m, \u001b[38;5;124m'\u001b[39m\u001b[38;5;124me\u001b[39m\u001b[38;5;124m'\u001b[39m:\u001b[38;5;241m45\u001b[39m}\n\u001b[0;32m----> 6\u001b[0m \u001b[38;5;28mprint\u001b[39m(\u001b[38;5;124m\"\u001b[39m\u001b[38;5;124madd(in_tup_4) =\u001b[39m\u001b[38;5;124m\"\u001b[39m, \u001b[43madd\u001b[49m\u001b[43m(\u001b[49m\u001b[38;5;241;43m*\u001b[39;49m\u001b[43min_tup_4\u001b[49m\u001b[43m,\u001b[49m\u001b[43m \u001b[49m\u001b[38;5;241;43m20\u001b[39;49m\u001b[43m,\u001b[49m\u001b[43m \u001b[49m\u001b[38;5;241;43m*\u001b[39;49m\u001b[38;5;241;43m*\u001b[39;49m\u001b[43mdict_efg\u001b[49m\u001b[43m)\u001b[49m)\n",
      "\u001b[0;31mTypeError\u001b[0m: add() got multiple values for argument 'e'"
     ]
    }
   ],
   "source": [
    "def add (a: int, b: int, c: int, d: int, e: int, *, f: int = 100, g: int = 101) -> int:\n",
    "    return (a + b + c + d + e + f + g)\n",
    "\n",
    "in_tup_4 = (1, 2, 3, 4)\n",
    "dict_efg = {'g':43, 'f':23, 'e':45}\n",
    "print(\"add(in_tup_4) =\", add(*in_tup_4, 20, **dict_efg))"
   ]
  },
  {
   "cell_type": "code",
   "execution_count": 37,
   "id": "b73ffc1d",
   "metadata": {
    "scrolled": false
   },
   "outputs": [
    {
     "name": "stdout",
     "output_type": "stream",
     "text": [
      "add(in_tup_5) = 96\n"
     ]
    }
   ],
   "source": [
    "def add (a: int, b: int, c: int, d: int, e: int, *, f: int = 100, g: int = 101) -> int:\n",
    "    return (a + b + c + d + e + f + g)\n",
    "\n",
    "in_tup_4 = (1, 2, 3, 4)\n",
    "dict_efg = {'g':43, 'f':23}\n",
    "print(\"add(in_tup_5) =\", add(*in_tup_4, 20, **dict_efg))"
   ]
  },
  {
   "cell_type": "code",
   "execution_count": 38,
   "id": "a8c009c3",
   "metadata": {
    "scrolled": false
   },
   "outputs": [
    {
     "name": "stdout",
     "output_type": "stream",
     "text": [
      "add(in_tup_5) = 121\n"
     ]
    }
   ],
   "source": [
    "def add (a: int, b: int, c: int, d: int, e: int, *, f: int = 100, g: int = 101) -> int:\n",
    "    return (a + b + c + d + e + f + g)\n",
    "\n",
    "in_tup_4 = (1, 2, 3, 4)\n",
    "dict_efg = {'g':43, 'f':23, 'e':45}\n",
    "print(\"add(in_tup_5) =\", add(*in_tup_4, **dict_efg))"
   ]
  },
  {
   "cell_type": "code",
   "execution_count": 41,
   "id": "d375d4bc",
   "metadata": {
    "scrolled": false
   },
   "outputs": [
    {
     "name": "stdout",
     "output_type": "stream",
     "text": [
      "add(in_tup_5) = 88\n"
     ]
    }
   ],
   "source": [
    "def add (a: int, b: int, c: int, d: int, e: int, *, f: int = 100, g: int = 101) -> int:\n",
    "    return (a + b + c + d + e + f + g)\n",
    "\n",
    "in_tup_4 = (1, 2, 3, 4)\n",
    "dict_efg = {'g':43, 'f':23}\n",
    "print(\"add(in_tup_5) =\", add(*in_tup_4, **dict_efg, e=12))"
   ]
  },
  {
   "cell_type": "code",
   "execution_count": 44,
   "id": "177b66db",
   "metadata": {
    "scrolled": false
   },
   "outputs": [
    {
     "ename": "TypeError",
     "evalue": "add() got multiple values for argument 'a'",
     "output_type": "error",
     "traceback": [
      "\u001b[0;31m---------------------------------------------------------------------------\u001b[0m",
      "\u001b[0;31mTypeError\u001b[0m                                 Traceback (most recent call last)",
      "Cell \u001b[0;32mIn [44], line 6\u001b[0m\n\u001b[1;32m      4\u001b[0m in_tup_3 \u001b[38;5;241m=\u001b[39m (\u001b[38;5;241m2\u001b[39m, \u001b[38;5;241m3\u001b[39m, \u001b[38;5;241m4\u001b[39m)\n\u001b[1;32m      5\u001b[0m dict_fg \u001b[38;5;241m=\u001b[39m {\u001b[38;5;124m'\u001b[39m\u001b[38;5;124mg\u001b[39m\u001b[38;5;124m'\u001b[39m:\u001b[38;5;241m43\u001b[39m, \u001b[38;5;124m'\u001b[39m\u001b[38;5;124mf\u001b[39m\u001b[38;5;124m'\u001b[39m:\u001b[38;5;241m23\u001b[39m}\n\u001b[0;32m----> 6\u001b[0m \u001b[38;5;28mprint\u001b[39m(\u001b[38;5;124m\"\u001b[39m\u001b[38;5;124madd(in_tup_5) =\u001b[39m\u001b[38;5;124m\"\u001b[39m, \u001b[43madd\u001b[49m\u001b[43m(\u001b[49m\u001b[43ma\u001b[49m\u001b[38;5;241;43m=\u001b[39;49m\u001b[38;5;241;43m1\u001b[39;49m\u001b[43m,\u001b[49m\u001b[43m \u001b[49m\u001b[38;5;241;43m*\u001b[39;49m\u001b[43min_tup_3\u001b[49m\u001b[43m,\u001b[49m\u001b[43m \u001b[49m\u001b[38;5;241;43m*\u001b[39;49m\u001b[38;5;241;43m*\u001b[39;49m\u001b[43mdict_fg\u001b[49m\u001b[43m,\u001b[49m\u001b[43m \u001b[49m\u001b[43me\u001b[49m\u001b[38;5;241;43m=\u001b[39;49m\u001b[38;5;241;43m12\u001b[39;49m\u001b[43m)\u001b[49m)\n",
      "\u001b[0;31mTypeError\u001b[0m: add() got multiple values for argument 'a'"
     ]
    }
   ],
   "source": [
    "def add (a: int, b: int, c: int, d: int, e: int, *, f: int = 100, g: int = 101) -> int:\n",
    "    return (a + b + c + d + e + f + g)\n",
    "\n",
    "in_tup_3 = (2, 3, 4)\n",
    "dict_fg = {'g':43, 'f':23}\n",
    "print(\"add(in_tup_5) =\", add(a=1, *in_tup_3, **dict_fg, e=12))"
   ]
  },
  {
   "cell_type": "markdown",
   "id": "5c0e0835",
   "metadata": {
    "scrolled": true
   },
   "source": [
    "## Variable number of args in function definition"
   ]
  },
  {
   "cell_type": "code",
   "execution_count": 55,
   "id": "77bd57b4",
   "metadata": {},
   "outputs": [
    {
     "name": "stdout",
     "output_type": "stream",
     "text": [
      "add(*in_tup_4) = 10\n"
     ]
    }
   ],
   "source": [
    "def add (*pos_args) -> int:\n",
    "    sum = 0\n",
    "    for num in pos_args:\n",
    "        sum += num\n",
    "    return (sum)\n",
    "\n",
    "in_tup_4 = (1, 2, 3, 4)\n",
    "print(\"add(*in_tup_4) =\", add(*in_tup_4))"
   ]
  },
  {
   "cell_type": "code",
   "execution_count": 56,
   "id": "a4ddca0b",
   "metadata": {},
   "outputs": [
    {
     "name": "stdout",
     "output_type": "stream",
     "text": [
      "add(*in_tup_10) = 55\n"
     ]
    }
   ],
   "source": [
    "def add (*pos_args) -> int:\n",
    "    sum = 0\n",
    "    for num in pos_args:\n",
    "        sum += num\n",
    "    return (sum)\n",
    "\n",
    "in_tup_10 = (1, 2, 3, 4, 5, 6, 7, 8, 9, 10)\n",
    "print(\"add(*in_tup_10) =\", add(*in_tup_10))"
   ]
  },
  {
   "cell_type": "code",
   "execution_count": 57,
   "id": "803f8c05",
   "metadata": {},
   "outputs": [
    {
     "name": "stdout",
     "output_type": "stream",
     "text": [
      "add(*in_tup_10) = 55\n"
     ]
    }
   ],
   "source": [
    "def add (*pos_args) -> int:\n",
    "    sum = 0\n",
    "    for num in pos_args:\n",
    "        sum += num\n",
    "    return (sum)\n",
    "\n",
    "print(\"add(*in_tup_10) =\", add(*in_tup_10))"
   ]
  },
  {
   "cell_type": "code",
   "execution_count": 58,
   "id": "57ddf51d",
   "metadata": {},
   "outputs": [
    {
     "ename": "TypeError",
     "evalue": "unsupported operand type(s) for +=: 'int' and 'range'",
     "output_type": "error",
     "traceback": [
      "\u001b[0;31m---------------------------------------------------------------------------\u001b[0m",
      "\u001b[0;31mTypeError\u001b[0m                                 Traceback (most recent call last)",
      "Cell \u001b[0;32mIn [58], line 7\u001b[0m\n\u001b[1;32m      4\u001b[0m         \u001b[38;5;28msum\u001b[39m \u001b[38;5;241m+\u001b[39m\u001b[38;5;241m=\u001b[39m num\n\u001b[1;32m      5\u001b[0m     \u001b[38;5;28;01mreturn\u001b[39;00m (\u001b[38;5;28msum\u001b[39m)\n\u001b[0;32m----> 7\u001b[0m \u001b[38;5;28mprint\u001b[39m(\u001b[38;5;124m\"\u001b[39m\u001b[38;5;124madd(range(50)) =\u001b[39m\u001b[38;5;124m\"\u001b[39m, \u001b[43madd\u001b[49m\u001b[43m(\u001b[49m\u001b[38;5;28;43mrange\u001b[39;49m\u001b[43m(\u001b[49m\u001b[38;5;241;43m50\u001b[39;49m\u001b[43m)\u001b[49m\u001b[43m)\u001b[49m)\n",
      "Cell \u001b[0;32mIn [58], line 4\u001b[0m, in \u001b[0;36madd\u001b[0;34m(*pos_args)\u001b[0m\n\u001b[1;32m      2\u001b[0m \u001b[38;5;28msum\u001b[39m \u001b[38;5;241m=\u001b[39m \u001b[38;5;241m0\u001b[39m\n\u001b[1;32m      3\u001b[0m \u001b[38;5;28;01mfor\u001b[39;00m num \u001b[38;5;129;01min\u001b[39;00m pos_args:\n\u001b[0;32m----> 4\u001b[0m     \u001b[38;5;28msum\u001b[39m \u001b[38;5;241m+\u001b[39m\u001b[38;5;241m=\u001b[39m num\n\u001b[1;32m      5\u001b[0m \u001b[38;5;28;01mreturn\u001b[39;00m (\u001b[38;5;28msum\u001b[39m)\n",
      "\u001b[0;31mTypeError\u001b[0m: unsupported operand type(s) for +=: 'int' and 'range'"
     ]
    }
   ],
   "source": [
    "def add (*pos_args) -> int:\n",
    "    sum = 0\n",
    "    for num in pos_args:\n",
    "        sum += num\n",
    "    return (sum)\n",
    "\n",
    "print(\"add(range(50)) =\", add(range(50)))"
   ]
  },
  {
   "cell_type": "code",
   "execution_count": 59,
   "id": "ad7a2bef",
   "metadata": {},
   "outputs": [
    {
     "name": "stdout",
     "output_type": "stream",
     "text": [
      "add(*range(50)) = 1225\n"
     ]
    }
   ],
   "source": [
    "def add (*pos_args) -> int:\n",
    "    sum = 0\n",
    "    for num in pos_args:\n",
    "        sum += num\n",
    "    return (sum)\n",
    "\n",
    "print(\"add(*range(50)) =\", add(*range(50)))"
   ]
  },
  {
   "cell_type": "code",
   "execution_count": 63,
   "id": "5848453c",
   "metadata": {},
   "outputs": [
    {
     "name": "stdout",
     "output_type": "stream",
     "text": [
      "add(*range(10), **dict_kw) = 75\n"
     ]
    }
   ],
   "source": [
    "def add (*pos_args, **keyword_args) -> int:\n",
    "    sum = 0\n",
    "    for num in pos_args:\n",
    "        sum += num\n",
    "    for k in keyword_args:\n",
    "        sum += keyword_args[k]\n",
    "    return (sum)\n",
    "\n",
    "dict_kw = {'1':10, '2':20}\n",
    "print(\"add(*range(10), **dict_kw) =\", add(*range(10), **dict_kw))"
   ]
  },
  {
   "cell_type": "code",
   "execution_count": 64,
   "id": "0b8be738",
   "metadata": {},
   "outputs": [
    {
     "ename": "SyntaxError",
     "evalue": "invalid syntax (1096720117.py, line 1)",
     "output_type": "error",
     "traceback": [
      "\u001b[0;36m  Cell \u001b[0;32mIn [64], line 1\u001b[0;36m\u001b[0m\n\u001b[0;31m    def add (*pos_args, **keyword_args, b: int) -> int:\u001b[0m\n\u001b[0m                                        ^\u001b[0m\n\u001b[0;31mSyntaxError\u001b[0m\u001b[0;31m:\u001b[0m invalid syntax\n"
     ]
    }
   ],
   "source": [
    "def add (*pos_args, **keyword_args, b: int) -> int:\n",
    "    sum = 0\n",
    "    for num in pos_args:\n",
    "        sum += num\n",
    "    for k in keyword_args:\n",
    "        sum += keyword_args[k]\n",
    "    return (sum)\n",
    "\n",
    "dict_kw = {'1':10, '2':20}\n",
    "print(\"add(*range(10), **dict_kw, 6) =\", add(*range(10), **dict_kw, 6))"
   ]
  },
  {
   "cell_type": "code",
   "execution_count": 67,
   "id": "95b88343",
   "metadata": {},
   "outputs": [
    {
     "name": "stdout",
     "output_type": "stream",
     "text": [
      "add(6, *range(10), **dict_kw, 6) = 75\n"
     ]
    }
   ],
   "source": [
    "def add (b: int, *pos_args, **keyword_args) -> int:\n",
    "    sum = 0\n",
    "    for num in pos_args:\n",
    "        sum += num\n",
    "    for k in keyword_args:\n",
    "        sum += keyword_args[k]\n",
    "    return (sum)\n",
    "\n",
    "dict_kw = {'1':10, '2':20}\n",
    "print(\"add(6, *range(10), **dict_kw, 6) =\", add(6, *range(10), **dict_kw))"
   ]
  },
  {
   "cell_type": "code",
   "execution_count": 70,
   "id": "a2e4a36c",
   "metadata": {},
   "outputs": [
    {
     "ename": "TypeError",
     "evalue": "add() missing 1 required keyword-only argument: 'b'",
     "output_type": "error",
     "traceback": [
      "\u001b[0;31m---------------------------------------------------------------------------\u001b[0m",
      "\u001b[0;31mTypeError\u001b[0m                                 Traceback (most recent call last)",
      "Cell \u001b[0;32mIn [70], line 10\u001b[0m\n\u001b[1;32m      7\u001b[0m     \u001b[38;5;28;01mreturn\u001b[39;00m (\u001b[38;5;28msum\u001b[39m)\n\u001b[1;32m      9\u001b[0m dict_kw \u001b[38;5;241m=\u001b[39m {\u001b[38;5;124m'\u001b[39m\u001b[38;5;124m1\u001b[39m\u001b[38;5;124m'\u001b[39m:\u001b[38;5;241m10\u001b[39m, \u001b[38;5;124m'\u001b[39m\u001b[38;5;124m2\u001b[39m\u001b[38;5;124m'\u001b[39m:\u001b[38;5;241m20\u001b[39m}\n\u001b[0;32m---> 10\u001b[0m \u001b[38;5;28mprint\u001b[39m(\u001b[38;5;124m\"\u001b[39m\u001b[38;5;124madd(*ange(10), 6, **dict_kw) =\u001b[39m\u001b[38;5;124m\"\u001b[39m, \u001b[43madd\u001b[49m\u001b[43m(\u001b[49m\u001b[38;5;241;43m*\u001b[39;49m\u001b[38;5;28;43mrange\u001b[39;49m\u001b[43m(\u001b[49m\u001b[38;5;241;43m10\u001b[39;49m\u001b[43m)\u001b[49m\u001b[43m,\u001b[49m\u001b[43m \u001b[49m\u001b[38;5;241;43m6\u001b[39;49m\u001b[43m,\u001b[49m\u001b[43m \u001b[49m\u001b[38;5;241;43m*\u001b[39;49m\u001b[38;5;241;43m*\u001b[39;49m\u001b[43mdict_kw\u001b[49m\u001b[43m)\u001b[49m)\n",
      "\u001b[0;31mTypeError\u001b[0m: add() missing 1 required keyword-only argument: 'b'"
     ]
    }
   ],
   "source": [
    "def add (*pos_args, b: int, **keyword_args) -> int:\n",
    "    sum = 0\n",
    "    for num in pos_args:\n",
    "        sum += num\n",
    "    for k in keyword_args:\n",
    "        sum += keyword_args[k]\n",
    "    return (sum)\n",
    "\n",
    "dict_kw = {'1':10, '2':20}\n",
    "print(\"add(*ange(10), 6, **dict_kw) =\", add(*range(10), 6, **dict_kw))"
   ]
  },
  {
   "cell_type": "code",
   "execution_count": 73,
   "id": "4175e781",
   "metadata": {},
   "outputs": [
    {
     "name": "stdout",
     "output_type": "stream",
     "text": [
      "add(*ange(10), 1000, **dict_kw, b=6) = 1075\n"
     ]
    }
   ],
   "source": [
    "def add (*pos_args, b: int, **keyword_args) -> int:\n",
    "    sum = 0\n",
    "    for num in pos_args:\n",
    "        sum += num\n",
    "    for k in keyword_args:\n",
    "        sum += keyword_args[k]\n",
    "    return (sum)\n",
    "\n",
    "dict_kw = {'1':10, '2':20}\n",
    "print(\"add(*ange(10), 1000, **dict_kw, b=6) =\", add(*range(10), 1000, **dict_kw, b=6))"
   ]
  },
  {
   "cell_type": "code",
   "execution_count": 74,
   "id": "77cb3965",
   "metadata": {},
   "outputs": [
    {
     "name": "stdout",
     "output_type": "stream",
     "text": [
      "add(*ange(10), 1000, b=6, **dict_kw) = 1075\n"
     ]
    }
   ],
   "source": [
    "def add (*pos_args, b: int, **keyword_args) -> int:\n",
    "    sum = 0\n",
    "    for num in pos_args:\n",
    "        sum += num\n",
    "    for k in keyword_args:\n",
    "        sum += keyword_args[k]\n",
    "    return (sum)\n",
    "\n",
    "dict_kw = {'1':10, '2':20}\n",
    "print(\"add(*ange(10), 1000, b=6, **dict_kw) =\", add(*range(10), 1000, b=6, **dict_kw))"
   ]
  },
  {
   "cell_type": "code",
   "execution_count": 75,
   "id": "5c34659c",
   "metadata": {},
   "outputs": [
    {
     "ename": "SyntaxError",
     "evalue": "invalid syntax (2362036323.py, line 1)",
     "output_type": "error",
     "traceback": [
      "\u001b[0;36m  Cell \u001b[0;32mIn [75], line 1\u001b[0;36m\u001b[0m\n\u001b[0;31m    def add (*pos_args, b: int, *, **keyword_args) -> int:\u001b[0m\n\u001b[0m                                ^\u001b[0m\n\u001b[0;31mSyntaxError\u001b[0m\u001b[0;31m:\u001b[0m invalid syntax\n"
     ]
    }
   ],
   "source": [
    "def add (*pos_args, b: int, *, **keyword_args) -> int:\n",
    "    sum = 0\n",
    "    for num in pos_args:\n",
    "        sum += num\n",
    "    for k in keyword_args:\n",
    "        sum += keyword_args[k]\n",
    "    return (sum)\n",
    "\n",
    "dict_kw = {'1':10, '2':20}\n",
    "print(\"add(*ange(10), 1000, b=6, **dict_kw) =\", add(*range(10), 1000, b=6, **dict_kw))"
   ]
  },
  {
   "cell_type": "code",
   "execution_count": 76,
   "id": "5474d6f1",
   "metadata": {},
   "outputs": [
    {
     "ename": "SyntaxError",
     "evalue": "invalid syntax (1663884928.py, line 1)",
     "output_type": "error",
     "traceback": [
      "\u001b[0;36m  Cell \u001b[0;32mIn [76], line 1\u001b[0;36m\u001b[0m\n\u001b[0;31m    def add (*pos_args, b: int, /, **keyword_args) -> int:\u001b[0m\n\u001b[0m                                ^\u001b[0m\n\u001b[0;31mSyntaxError\u001b[0m\u001b[0;31m:\u001b[0m invalid syntax\n"
     ]
    }
   ],
   "source": [
    "def add (*pos_args, b: int, /, **keyword_args) -> int:\n",
    "    sum = 0\n",
    "    for num in pos_args:\n",
    "        sum += num\n",
    "    for k in keyword_args:\n",
    "        sum += keyword_args[k]\n",
    "    return (sum)\n",
    "\n",
    "dict_kw = {'1':10, '2':20}\n",
    "print(\"add(*ange(10), 1000, b=6, **dict_kw) =\", add(*range(10), 1000, b=6, **dict_kw))"
   ]
  },
  {
   "cell_type": "code",
   "execution_count": 77,
   "id": "67193710",
   "metadata": {},
   "outputs": [
    {
     "name": "stdout",
     "output_type": "stream",
     "text": [
      "add(*ange(10), 1000, b=6, **dict_kw) = 1081\n"
     ]
    }
   ],
   "source": [
    "def add (b: int, /, *pos_args, **keyword_args) -> int:\n",
    "    sum = 0\n",
    "    for num in pos_args:\n",
    "        sum += num\n",
    "    for k in keyword_args:\n",
    "        sum += keyword_args[k]\n",
    "    return (sum)\n",
    "\n",
    "dict_kw = {'1':10, '2':20}\n",
    "print(\"add(*ange(10), 1000, b=6, **dict_kw) =\", add(*range(10), 1000, b=6, **dict_kw))"
   ]
  },
  {
   "cell_type": "markdown",
   "id": "15b42f78",
   "metadata": {},
   "source": [
    "## Format string specifier"
   ]
  },
  {
   "cell_type": "code",
   "execution_count": 82,
   "id": "6fc53477",
   "metadata": {},
   "outputs": [
    {
     "data": {
      "text/plain": [
       "'hello 999'"
      ]
     },
     "execution_count": 82,
     "metadata": {},
     "output_type": "execute_result"
    }
   ],
   "source": [
    "'%s %d' % ('hello', 999)\n"
   ]
  },
  {
   "cell_type": "code",
   "execution_count": 85,
   "id": "fac5bfa7",
   "metadata": {
    "scrolled": true
   },
   "outputs": [
    {
     "ename": "ValueError",
     "evalue": "Unknown conversion specifier d",
     "output_type": "error",
     "traceback": [
      "\u001b[0;31m---------------------------------------------------------------------------\u001b[0m",
      "\u001b[0;31mValueError\u001b[0m                                Traceback (most recent call last)",
      "Cell \u001b[0;32mIn [85], line 1\u001b[0m\n\u001b[0;32m----> 1\u001b[0m \u001b[38;5;124;43m'\u001b[39;49m\u001b[38;5;124;43mThis \u001b[39;49m\u001b[38;5;132;43;01m{0!s}\u001b[39;49;00m\u001b[38;5;124;43m and this \u001b[39;49m\u001b[38;5;124;43m{\u001b[39;49m\u001b[38;5;124;43m0!d} are same\u001b[39;49m\u001b[38;5;124;43m'\u001b[39;49m\u001b[38;5;241;43m.\u001b[39;49m\u001b[43mformat\u001b[49m\u001b[43m(\u001b[49m\u001b[38;5;241;43m50\u001b[39;49m\u001b[43m)\u001b[49m\n",
      "\u001b[0;31mValueError\u001b[0m: Unknown conversion specifier d"
     ]
    }
   ],
   "source": [
    "'This {0!s} and this {0!d} are same'.format(50)"
   ]
  },
  {
   "cell_type": "code",
   "execution_count": 84,
   "id": "ce997eb4",
   "metadata": {
    "scrolled": false
   },
   "outputs": [
    {
     "ename": "ValueError",
     "evalue": "expected ':' after conversion specifier",
     "output_type": "error",
     "traceback": [
      "\u001b[0;31m---------------------------------------------------------------------------\u001b[0m",
      "\u001b[0;31mValueError\u001b[0m                                Traceback (most recent call last)",
      "Cell \u001b[0;32mIn [84], line 1\u001b[0m\n\u001b[0;32m----> 1\u001b[0m \u001b[38;5;124;43m'\u001b[39;49m\u001b[38;5;124;43mThis \u001b[39;49m\u001b[38;5;132;43;01m{0!s}\u001b[39;49;00m\u001b[38;5;124;43m and this \u001b[39;49m\u001b[38;5;124;43m{\u001b[39;49m\u001b[38;5;124;43m0!} are same\u001b[39;49m\u001b[38;5;124;43m'\u001b[39;49m\u001b[38;5;241;43m.\u001b[39;49m\u001b[43mformat\u001b[49m\u001b[43m(\u001b[49m\u001b[38;5;241;43m50\u001b[39;49m\u001b[43m)\u001b[49m\n",
      "\u001b[0;31mValueError\u001b[0m: expected ':' after conversion specifier"
     ]
    }
   ],
   "source": [
    "'This {0!s} and this {0!} are same'.format(50)"
   ]
  },
  {
   "cell_type": "code",
   "execution_count": 87,
   "id": "31c45df7",
   "metadata": {
    "scrolled": true
   },
   "outputs": [
    {
     "data": {
      "text/plain": [
       "'This 50 and this 50 are same'"
      ]
     },
     "execution_count": 87,
     "metadata": {},
     "output_type": "execute_result"
    }
   ],
   "source": [
    "'This {0!s} and this {0!s} are same'.format(50, 30)"
   ]
  },
  {
   "cell_type": "code",
   "execution_count": 88,
   "id": "4de2b020",
   "metadata": {
    "scrolled": true
   },
   "outputs": [
    {
     "data": {
      "text/plain": [
       "'This 50 and this 30 are not same'"
      ]
     },
     "execution_count": 88,
     "metadata": {},
     "output_type": "execute_result"
    }
   ],
   "source": [
    "'This {0!s} and this {1!s} are not same'.format(50, 30)"
   ]
  },
  {
   "cell_type": "code",
   "execution_count": 81,
   "id": "32c356a5",
   "metadata": {
    "scrolled": true
   },
   "outputs": [
    {
     "name": "stdout",
     "output_type": "stream",
     "text": [
      "10^0 ==          1\n",
      "10^1 ==         10\n",
      "10^2 ==        100\n",
      "10^3 ==       1000\n",
      "10^4 ==      10000\n",
      "10^5 ==     100000\n",
      "10^6 ==    1000000\n",
      "10^7 ==   10000000\n",
      "10^8 ==  100000000\n",
      "10^9 == 1000000000\n"
     ]
    }
   ],
   "source": [
    "for x in range(10):\n",
    "    print(f\"10^{x} == {10**x:10d}\")\n"
   ]
  },
  {
   "cell_type": "code",
   "execution_count": 80,
   "id": "f5349394",
   "metadata": {
    "scrolled": true
   },
   "outputs": [
    {
     "ename": "TypeError",
     "evalue": "unsupported operand type(s) for ^: 'int' and 'set'",
     "output_type": "error",
     "traceback": [
      "\u001b[0;31m---------------------------------------------------------------------------\u001b[0m",
      "\u001b[0;31mTypeError\u001b[0m                                 Traceback (most recent call last)",
      "Cell \u001b[0;32mIn [80], line 2\u001b[0m\n\u001b[1;32m      1\u001b[0m \u001b[38;5;28;01mfor\u001b[39;00m x \u001b[38;5;129;01min\u001b[39;00m \u001b[38;5;28mrange\u001b[39m(\u001b[38;5;241m10\u001b[39m):\n\u001b[0;32m----> 2\u001b[0m     \u001b[38;5;28mprint\u001b[39m(\u001b[38;5;124mf\u001b[39m\u001b[38;5;124m\"\u001b[39m\u001b[38;5;132;01m{\u001b[39;00m\u001b[38;5;241m10\u001b[39m\u001b[38;5;241m^\u001b[39m{x}\u001b[38;5;132;01m}\u001b[39;00m\u001b[38;5;124m == \u001b[39m\u001b[38;5;130;01m{{\u001b[39;00m\u001b[38;5;124m10**x:10d\u001b[39m\u001b[38;5;130;01m}}\u001b[39;00m\u001b[38;5;124m\"\u001b[39m)\n",
      "\u001b[0;31mTypeError\u001b[0m: unsupported operand type(s) for ^: 'int' and 'set'"
     ]
    }
   ],
   "source": [
    "for x in range(10):\n",
    "    print(f\"{10^{x}} == {{10**x:10d}}\")\n"
   ]
  },
  {
   "cell_type": "code",
   "execution_count": 98,
   "id": "0f7d1ba9",
   "metadata": {
    "scrolled": false
   },
   "outputs": [
    {
     "name": "stdout",
     "output_type": "stream",
     "text": [
      "{10^0} == {10**x:10d}\n",
      "{10^1} == {10**x:10d}\n",
      "{10^2} == {10**x:10d}\n",
      "{10^3} == {10**x:10d}\n",
      "{10^4} == {10**x:10d}\n",
      "{10^5} == {10**x:10d}\n",
      "{10^6} == {10**x:10d}\n",
      "{10^7} == {10**x:10d}\n",
      "{10^8} == {10**x:10d}\n",
      "{10^9} == {10**x:10d}\n"
     ]
    }
   ],
   "source": [
    "for x in range(10):\n",
    "    print(f\"{{10^{x}}} == {{10**x:10d}}\")\n"
   ]
  },
  {
   "cell_type": "code",
   "execution_count": 99,
   "id": "b91b5b2d",
   "metadata": {
    "scrolled": false
   },
   "outputs": [
    {
     "name": "stdout",
     "output_type": "stream",
     "text": [
      "{10^0} == {         1}\n",
      "{10^1} == {        10}\n",
      "{10^2} == {       100}\n",
      "{10^3} == {      1000}\n",
      "{10^4} == {     10000}\n",
      "{10^5} == {    100000}\n",
      "{10^6} == {   1000000}\n",
      "{10^7} == {  10000000}\n",
      "{10^8} == { 100000000}\n",
      "{10^9} == {1000000000}\n"
     ]
    }
   ],
   "source": [
    "for x in range(10):\n",
    "    print(f\"{{10^{x}}} == {{{10**x:10d}}}\")\n"
   ]
  },
  {
   "cell_type": "code",
   "execution_count": 107,
   "id": "b113f483",
   "metadata": {
    "scrolled": false
   },
   "outputs": [
    {
     "name": "stdout",
     "output_type": "stream",
     "text": [
      "{10^0} == {0000000001}\n",
      "{10^1} == {0000000010}\n",
      "{10^2} == {0000000100}\n",
      "{10^3} == {0000001000}\n",
      "{10^4} == {0000010000}\n",
      "{10^5} == {0000100000}\n",
      "{10^6} == {0001000000}\n",
      "{10^7} == {0010000000}\n",
      "{10^8} == {0100000000}\n",
      "{10^9} == {1000000000}\n"
     ]
    }
   ],
   "source": [
    "for x in range(10):\n",
    "    print(f\"{{10^{x}}} == {{{10**x:010d}}}\")\n"
   ]
  },
  {
   "cell_type": "code",
   "execution_count": 115,
   "id": "b92dee67",
   "metadata": {
    "scrolled": false
   },
   "outputs": [
    {
     "name": "stdout",
     "output_type": "stream",
     "text": [
      "{10^0} == {0000000000000001}\n",
      "{10^1} == {0000000000000010}\n",
      "{10^2} == {0000000000000100}\n",
      "{10^3} == {0000000000001000}\n",
      "{10^4} == {0000000000010000}\n",
      "{10^5} == {0000000000100000}\n",
      "{10^6} == {0000000001000000}\n",
      "{10^7} == {0000000010000000}\n",
      "{10^8} == {0000000100000000}\n",
      "{10^9} == {0000001000000000}\n"
     ]
    }
   ],
   "source": [
    "w = 11\n",
    "z = '0'\n",
    "p = ''\n",
    "for x in range(10):\n",
    "    print(f\"{{10^{x}}} == {{{10**x:{p}{z}{w+5}d}}}\")\n"
   ]
  },
  {
   "cell_type": "code",
   "execution_count": 116,
   "id": "f082d62c",
   "metadata": {
    "scrolled": true
   },
   "outputs": [
    {
     "ename": "ValueError",
     "evalue": "Invalid format specifier",
     "output_type": "error",
     "traceback": [
      "\u001b[0;31m---------------------------------------------------------------------------\u001b[0m",
      "\u001b[0;31mValueError\u001b[0m                                Traceback (most recent call last)",
      "Cell \u001b[0;32mIn [116], line 5\u001b[0m\n\u001b[1;32m      3\u001b[0m p \u001b[38;5;241m=\u001b[39m \u001b[38;5;124m'\u001b[39m\u001b[38;5;124m+\u001b[39m\u001b[38;5;124m'\u001b[39m\n\u001b[1;32m      4\u001b[0m \u001b[38;5;28;01mfor\u001b[39;00m x \u001b[38;5;129;01min\u001b[39;00m \u001b[38;5;28mrange\u001b[39m(\u001b[38;5;241m10\u001b[39m):\n\u001b[0;32m----> 5\u001b[0m     \u001b[38;5;28mprint\u001b[39m(\u001b[38;5;124mf\u001b[39m\u001b[38;5;124m\"\u001b[39m\u001b[38;5;130;01m{{\u001b[39;00m\u001b[38;5;124m10^\u001b[39m\u001b[38;5;132;01m{\u001b[39;00mx\u001b[38;5;132;01m}\u001b[39;00m\u001b[38;5;130;01m}}\u001b[39;00m\u001b[38;5;124m == \u001b[39m\u001b[38;5;130;01m{{\u001b[39;00m\u001b[38;5;132;01m{\u001b[39;00m\u001b[38;5;241m10\u001b[39m\u001b[38;5;241m*\u001b[39m\u001b[38;5;241m*\u001b[39mx\u001b[38;5;132;01m:\u001b[39;00m\u001b[38;5;132;01m{\u001b[39;00mp\u001b[38;5;132;01m}\u001b[39;00m\u001b[38;5;132;01m{\u001b[39;00mz\u001b[38;5;132;01m}\u001b[39;00m\u001b[38;5;132;01m{\u001b[39;00mw\u001b[38;5;241m+\u001b[39m\u001b[38;5;241m5\u001b[39m\u001b[38;5;132;01m}\u001b[39;00m\u001b[38;5;124md\u001b[39m\u001b[38;5;130;01m}}\u001b[39;00m\u001b[38;5;132;01m}\u001b[39;00m\u001b[38;5;124m\"\u001b[39m)\n",
      "\u001b[0;31mValueError\u001b[0m: Invalid format specifier"
     ]
    }
   ],
   "source": [
    "w = 11\n",
    "z = ' '\n",
    "p = '+'\n",
    "for x in range(10):\n",
    "    print(f\"{{10^{x}}} == {{{10**x:{p}{z}{w+5}d}}}\")\n"
   ]
  },
  {
   "cell_type": "code",
   "execution_count": 117,
   "id": "d645d3a3",
   "metadata": {
    "scrolled": true
   },
   "outputs": [
    {
     "name": "stdout",
     "output_type": "stream",
     "text": [
      "{10^0} == {              +1}\n",
      "{10^1} == {             +10}\n",
      "{10^2} == {            +100}\n",
      "{10^3} == {           +1000}\n",
      "{10^4} == {          +10000}\n",
      "{10^5} == {         +100000}\n",
      "{10^6} == {        +1000000}\n",
      "{10^7} == {       +10000000}\n",
      "{10^8} == {      +100000000}\n",
      "{10^9} == {     +1000000000}\n"
     ]
    }
   ],
   "source": [
    "w = 11\n",
    "z = ''\n",
    "p = '+'\n",
    "for x in range(10):\n",
    "    print(f\"{{10^{x}}} == {{{10**x:{p}{z}{w+5}d}}}\")\n"
   ]
  },
  {
   "cell_type": "code",
   "execution_count": 119,
   "id": "e9005920",
   "metadata": {
    "scrolled": true
   },
   "outputs": [
    {
     "name": "stdout",
     "output_type": "stream",
     "text": [
      "{10^0} == {+000000000000001}\n",
      "{10^1} == {+000000000000010}\n",
      "{10^2} == {+000000000000100}\n",
      "{10^3} == {+000000000001000}\n",
      "{10^4} == {+000000000010000}\n",
      "{10^5} == {+000000000100000}\n",
      "{10^6} == {+000000001000000}\n",
      "{10^7} == {+000000010000000}\n",
      "{10^8} == {+000000100000000}\n",
      "{10^9} == {+000001000000000}\n"
     ]
    }
   ],
   "source": [
    "w = 11\n",
    "z = '0'\n",
    "p = '+'\n",
    "for x in range(10):\n",
    "    print(f\"{{10^{x}}} == {{{10**x:{p}{z}{w+5}d}}}\")\n"
   ]
  },
  {
   "cell_type": "code",
   "execution_count": 120,
   "id": "f64f533b",
   "metadata": {
    "scrolled": true
   },
   "outputs": [
    {
     "name": "stdout",
     "output_type": "stream",
     "text": [
      "{10^0} == {+++++++1++++++++}\n",
      "{10^1} == {+++++++10+++++++}\n",
      "{10^2} == {++++++100+++++++}\n",
      "{10^3} == {++++++1000++++++}\n",
      "{10^4} == {+++++10000++++++}\n",
      "{10^5} == {+++++100000+++++}\n",
      "{10^6} == {++++1000000+++++}\n",
      "{10^7} == {++++10000000++++}\n",
      "{10^8} == {+++100000000++++}\n",
      "{10^9} == {+++1000000000+++}\n"
     ]
    }
   ],
   "source": [
    "w = 11\n",
    "z = '^'\n",
    "p = '+'\n",
    "for x in range(10):\n",
    "    print(f\"{{10^{x}}} == {{{10**x:{p}{z}{w+5}d}}}\")\n"
   ]
  },
  {
   "cell_type": "code",
   "execution_count": 121,
   "id": "8cb4726e",
   "metadata": {
    "scrolled": false
   },
   "outputs": [
    {
     "name": "stdout",
     "output_type": "stream",
     "text": [
      "{10^0} == {       1        }\n",
      "{10^1} == {       10       }\n",
      "{10^2} == {      100       }\n",
      "{10^3} == {      1000      }\n",
      "{10^4} == {     10000      }\n",
      "{10^5} == {     100000     }\n",
      "{10^6} == {    1000000     }\n",
      "{10^7} == {    10000000    }\n",
      "{10^8} == {   100000000    }\n",
      "{10^9} == {   1000000000   }\n"
     ]
    }
   ],
   "source": [
    "w = 11\n",
    "z = '^'\n",
    "p = ' '\n",
    "for x in range(10):\n",
    "    print(f\"{{10^{x}}} == {{{10**x:{p}{z}{w+5}d}}}\")\n"
   ]
  },
  {
   "cell_type": "code",
   "execution_count": 130,
   "id": "dd346900",
   "metadata": {
    "scrolled": false
   },
   "outputs": [
    {
     "name": "stdout",
     "output_type": "stream",
     "text": [
      "{10^00} == {              1               }\n",
      "{10^02} == {             100              }\n",
      "{10^04} == {            10000             }\n",
      "{10^06} == {           1000000            }\n",
      "{10^08} == {          100000000           }\n",
      "{10^10} == {         10000000000          }\n",
      "{10^12} == {        1000000000000         }\n",
      "{10^14} == {       100000000000000        }\n",
      "{10^16} == {      10000000000000000       }\n",
      "{10^18} == {     1000000000000000000      }\n"
     ]
    }
   ],
   "source": [
    "w = 25\n",
    "z = '^'\n",
    "p = ' '\n",
    "for x in range(0, 20, 2):\n",
    "    print(f\"{{10^{x:02d}}} == {{{10**x:{p}{z}{w+5}d}}}\")\n"
   ]
  },
  {
   "cell_type": "code",
   "execution_count": 129,
   "id": "0d22593b",
   "metadata": {
    "scrolled": false
   },
   "outputs": [
    {
     "name": "stdout",
     "output_type": "stream",
     "text": [
      "{10^00} == {..............1...............}\n",
      "{10^02} == {.............100..............}\n",
      "{10^04} == {............10000.............}\n",
      "{10^06} == {...........1000000............}\n",
      "{10^08} == {..........100000000...........}\n",
      "{10^10} == {.........10000000000..........}\n",
      "{10^12} == {........1000000000000.........}\n",
      "{10^14} == {.......100000000000000........}\n",
      "{10^16} == {......10000000000000000.......}\n",
      "{10^18} == {.....1000000000000000000......}\n"
     ]
    }
   ],
   "source": [
    "w = 25\n",
    "z = '^'\n",
    "p = '.'\n",
    "for x in range(0, 20, 2):\n",
    "    print(f\"{{10^{x:02d}}} == {{{10**x:{p}{z}{w+5}d}}}\")\n"
   ]
  },
  {
   "cell_type": "code",
   "execution_count": 100,
   "id": "2bb38b7b",
   "metadata": {
    "scrolled": true
   },
   "outputs": [
    {
     "ename": "SyntaxError",
     "evalue": "f-string: single '}' is not allowed (2107214876.py, line 2)",
     "output_type": "error",
     "traceback": [
      "\u001b[0;36m  Cell \u001b[0;32mIn [100], line 2\u001b[0;36m\u001b[0m\n\u001b[0;31m    print(f\" This is a demo string to test }\")\u001b[0m\n\u001b[0m                                             ^\u001b[0m\n\u001b[0;31mSyntaxError\u001b[0m\u001b[0;31m:\u001b[0m f-string: single '}' is not allowed\n"
     ]
    }
   ],
   "source": [
    "for x in range(10):\n",
    "    print(f\" This is a demo string to test }\")\n"
   ]
  },
  {
   "cell_type": "code",
   "execution_count": 102,
   "id": "c019b942",
   "metadata": {
    "scrolled": true
   },
   "outputs": [
    {
     "ename": "SyntaxError",
     "evalue": "f-string: empty expression not allowed (4263368077.py, line 2)",
     "output_type": "error",
     "traceback": [
      "\u001b[0;36m  Cell \u001b[0;32mIn [102], line 2\u001b[0;36m\u001b[0m\n\u001b[0;31m    print(f\" This is a demo string to test {}\")\u001b[0m\n\u001b[0m                                              ^\u001b[0m\n\u001b[0;31mSyntaxError\u001b[0m\u001b[0;31m:\u001b[0m f-string: empty expression not allowed\n"
     ]
    }
   ],
   "source": [
    "for x in range(10):\n",
    "    print(f\" This is a demo string to test {}\")\n"
   ]
  },
  {
   "cell_type": "code",
   "execution_count": 104,
   "id": "246d1771",
   "metadata": {
    "scrolled": false
   },
   "outputs": [
    {
     "ename": "SyntaxError",
     "evalue": "f-string: expecting '}' (2626368011.py, line 2)",
     "output_type": "error",
     "traceback": [
      "\u001b[0;36m  Cell \u001b[0;32mIn [104], line 2\u001b[0;36m\u001b[0m\n\u001b[0;31m    print(f\" This is a demo string to test {\")\u001b[0m\n\u001b[0m                                             ^\u001b[0m\n\u001b[0;31mSyntaxError\u001b[0m\u001b[0;31m:\u001b[0m f-string: expecting '}'\n"
     ]
    }
   ],
   "source": [
    "for x in range(10):\n",
    "    print(f\" This is a demo string to test {\")\n"
   ]
  },
  {
   "cell_type": "code",
   "execution_count": 106,
   "id": "6fa8acee",
   "metadata": {
    "scrolled": false
   },
   "outputs": [
    {
     "ename": "SyntaxError",
     "evalue": "f-string: invalid syntax (1008604291.py, line 2)",
     "output_type": "error",
     "traceback": [
      "\u001b[0;36m  Cell \u001b[0;32mIn [106], line 2\u001b[0;36m\u001b[0m\n\u001b[0;31m    print(f\"This is a demo string to test {this is a test}\")\u001b[0m\n\u001b[0m           ^\u001b[0m\n\u001b[0;31mSyntaxError\u001b[0m\u001b[0;31m:\u001b[0m f-string: invalid syntax\n"
     ]
    }
   ],
   "source": [
    "for x in range(10):\n",
    "    print(f\"This is a demo string to test {this is a test}\")\n"
   ]
  },
  {
   "cell_type": "code",
   "execution_count": 92,
   "id": "8b9c892c",
   "metadata": {},
   "outputs": [
    {
     "name": "stdout",
     "output_type": "stream",
     "text": [
      "My name is Arul, my age next year is 43, my anniversary is Sunday, August 30, 2009.\n",
      "He said his name is 'Arul'.\n"
     ]
    }
   ],
   "source": [
    "import datetime\n",
    "name = 'Arul'\n",
    "age = 42\n",
    "anniversary = datetime.date(2009, 8, 30)\n",
    "f1 = f'My name is {name}, my age next year is {age+1}, my anniversary is {anniversary:%A, %B %d, %Y}.'\n",
    "f2 = f'He said his name is {name!r}.'\n",
    "print(f1)\n",
    "print(f2)\n"
   ]
  },
  {
   "cell_type": "code",
   "execution_count": 94,
   "id": "273b85b1",
   "metadata": {
    "scrolled": true
   },
   "outputs": [
    {
     "name": "stdout",
     "output_type": "stream",
     "text": [
      "My name is Arul & <class 'str'>, my age next year is 43, my anniversary is Sunday, August 30, 2009.\n",
      "He said his name is 'Arul'.\n"
     ]
    }
   ],
   "source": [
    "import datetime\n",
    "name = 'Arul'\n",
    "age = 42\n",
    "anniversary = datetime.date(2009, 8, 30)\n",
    "f1 = f'My name is {name} & {type(name)}, my age next year is {age+1}, \\\n",
    "my anniversary is {anniversary:%A, %B %d, %Y}.'\n",
    "f2 = f'He said his name is {name!r}.'\n",
    "print(f1)\n",
    "print(f2)\n"
   ]
  },
  {
   "cell_type": "markdown",
   "id": "840ca2ff",
   "metadata": {
    "scrolled": true
   },
   "source": [
    "## Set( ) details"
   ]
  },
  {
   "cell_type": "code",
   "execution_count": 16,
   "id": "e586f522",
   "metadata": {},
   "outputs": [
    {
     "name": "stdout",
     "output_type": "stream",
     "text": [
      "set_a = {1, 2, 3, 4, 5}\n"
     ]
    }
   ],
   "source": [
    "set_a = {1, 2,2, 3,3,3, 4,4,4,4, 5,5,5,5,5}\n",
    "\n",
    "print(f'set_a = {set_a}')"
   ]
  },
  {
   "cell_type": "code",
   "execution_count": 18,
   "id": "8cfd55b5",
   "metadata": {},
   "outputs": [
    {
     "name": "stdout",
     "output_type": "stream",
     "text": [
      "set_a = {1, 2, 3, 4, 5}\n",
      "i = 1 | i = 2 | i = 3 | i = 4 | i = 5 | "
     ]
    }
   ],
   "source": [
    "set_a = {1, 2,2, 3,3,3, 4,4,4,4, 5,5,5,5,5}\n",
    "\n",
    "print(f'set_a = {set_a}')\n",
    "for i in set_a:\n",
    "    print(f'i = {i}', end = ' | ')"
   ]
  },
  {
   "cell_type": "markdown",
   "id": "37c729c0",
   "metadata": {},
   "source": [
    "## Functions"
   ]
  },
  {
   "cell_type": "code",
   "execution_count": 95,
   "id": "10698645",
   "metadata": {
    "scrolled": true
   },
   "outputs": [
    {
     "ename": "KeyError",
     "evalue": "'x'",
     "output_type": "error",
     "traceback": [
      "\u001b[0;31m---------------------------------------------------------------------------\u001b[0m",
      "\u001b[0;31mKeyError\u001b[0m                                  Traceback (most recent call last)",
      "Cell \u001b[0;32mIn [95], line 6\u001b[0m\n\u001b[1;32m      3\u001b[0m         \u001b[38;5;28;01mreturn\u001b[39;00m \u001b[38;5;124m'\u001b[39m\u001b[38;5;124mx=\u001b[39m\u001b[38;5;132;01m{x}\u001b[39;00m\u001b[38;5;124m'\u001b[39m\u001b[38;5;241m.\u001b[39mformat_map(\u001b[38;5;28mlocals\u001b[39m())\n\u001b[1;32m      4\u001b[0m     \u001b[38;5;28;01mreturn\u001b[39;00m inner\n\u001b[0;32m----> 6\u001b[0m \u001b[43mouter\u001b[49m\u001b[43m(\u001b[49m\u001b[38;5;241;43m42\u001b[39;49m\u001b[43m)\u001b[49m\u001b[43m(\u001b[49m\u001b[43m)\u001b[49m\n",
      "Cell \u001b[0;32mIn [95], line 3\u001b[0m, in \u001b[0;36mouter.<locals>.inner\u001b[0;34m()\u001b[0m\n\u001b[1;32m      2\u001b[0m \u001b[38;5;28;01mdef\u001b[39;00m \u001b[38;5;21minner\u001b[39m():\n\u001b[0;32m----> 3\u001b[0m     \u001b[38;5;28;01mreturn\u001b[39;00m \u001b[38;5;124;43m'\u001b[39;49m\u001b[38;5;124;43mx=\u001b[39;49m\u001b[38;5;132;43;01m{x}\u001b[39;49;00m\u001b[38;5;124;43m'\u001b[39;49m\u001b[38;5;241;43m.\u001b[39;49m\u001b[43mformat_map\u001b[49m\u001b[43m(\u001b[49m\u001b[38;5;28;43mlocals\u001b[39;49m\u001b[43m(\u001b[49m\u001b[43m)\u001b[49m\u001b[43m)\u001b[49m\n",
      "\u001b[0;31mKeyError\u001b[0m: 'x'"
     ]
    }
   ],
   "source": [
    "def outer(x):\n",
    "    def inner():\n",
    "        return 'x={x}'.format_map(locals())\n",
    "    return inner\n",
    "\n",
    "outer(42)()"
   ]
  },
  {
   "cell_type": "code",
   "execution_count": 96,
   "id": "0bedc090",
   "metadata": {
    "scrolled": true
   },
   "outputs": [
    {
     "data": {
      "text/plain": [
       "'x=42'"
      ]
     },
     "execution_count": 96,
     "metadata": {},
     "output_type": "execute_result"
    }
   ],
   "source": [
    "def outer(x):\n",
    "    def inner():\n",
    "        x\n",
    "        return 'x={x}'.format_map(locals())\n",
    "    return inner\n",
    "\n",
    "outer(42)()"
   ]
  },
  {
   "cell_type": "markdown",
   "id": "b4f5e9f9",
   "metadata": {},
   "source": [
    "## Match Case - Statements"
   ]
  },
  {
   "cell_type": "markdown",
   "id": "22586139",
   "metadata": {},
   "source": [
    "This is not supported in Python 3.10 onwards"
   ]
  },
  {
   "cell_type": "code",
   "execution_count": 131,
   "id": "fbfa5a66",
   "metadata": {
    "scrolled": true
   },
   "outputs": [
    {
     "ename": "SyntaxError",
     "evalue": "invalid syntax (3693166020.py, line 2)",
     "output_type": "error",
     "traceback": [
      "\u001b[0;36m  Cell \u001b[0;32mIn [131], line 2\u001b[0;36m\u001b[0m\n\u001b[0;31m    match (i % 3, i % 5):\u001b[0m\n\u001b[0m                         ^\u001b[0m\n\u001b[0;31mSyntaxError\u001b[0m\u001b[0;31m:\u001b[0m invalid syntax\n"
     ]
    }
   ],
   "source": [
    "for i in range(100):\n",
    "    match (i % 3, i % 5):\n",
    "        case (0, 0): print(\"FizzBuzz\")\n",
    "        case (0, _): print(\"Fizz\")\n",
    "        case (_, 0): print(\"Buzz\")\n",
    "        case _: print(i)"
   ]
  },
  {
   "cell_type": "markdown",
   "id": "d17accb7",
   "metadata": {},
   "source": [
    "## Map( ) function..."
   ]
  },
  {
   "cell_type": "code",
   "execution_count": 135,
   "id": "c5f28e43",
   "metadata": {},
   "outputs": [
    {
     "name": "stdout",
     "output_type": "stream",
     "text": [
      "[5, 3, 7, 2, 6]\n"
     ]
    }
   ],
   "source": [
    "# Using the map() function to count letters of each word\n",
    "words = ['hello', 'and', 'welcome', 'to', 'datagy']\n",
    "\n",
    "lengths = map(len, words)\n",
    "lengths_list = list(lengths)\n",
    "print(lengths_list)"
   ]
  },
  {
   "cell_type": "code",
   "execution_count": 142,
   "id": "57a6e3e0",
   "metadata": {},
   "outputs": [
    {
     "name": "stdout",
     "output_type": "stream",
     "text": [
      "rev_map = <map object at 0x105b86520>\n",
      "rev_words = ['olleh', 'dna', 'emoclew', 'ot', 'ygatad']\n"
     ]
    }
   ],
   "source": [
    "# Using the map() function to reverse the letters of each word\n",
    "words = ['hello', 'and', 'welcome', 'to', 'datagy']\n",
    "\n",
    "def rev(s):\n",
    "    return s[::-1]\n",
    "\n",
    "rev_map = map(rev, words)\n",
    "print('rev_map =', rev_map)\n",
    "rev_words = list(rev_map)\n",
    "print('rev_words =', rev_words)\n"
   ]
  },
  {
   "cell_type": "code",
   "execution_count": 143,
   "id": "798160b8",
   "metadata": {},
   "outputs": [
    {
     "name": "stdout",
     "output_type": "stream",
     "text": [
      "rev_map = <map object at 0x105b96a00>\n",
      "rev_words 1 = ['olleh', 'dna', 'emoclew', 'ot', 'ygatad']\n",
      "rev_words 2 = ['olleh', 'dna', 'emoclew', 'ot', 'ygatad']\n"
     ]
    }
   ],
   "source": [
    "words = ['hello', 'and', 'welcome', 'to', 'datagy']\n",
    "\n",
    "def rev(s):\n",
    "    return s[::-1]\n",
    "\n",
    "rev_map = map(rev, words)\n",
    "\n",
    "print('rev_map =', rev_map)\n",
    "rev_words = list(rev_map)\n",
    "print('rev_words 1 =', rev_words)\n",
    "\n",
    "words = ['Hai', 'there', 'warm', 'welcome', 'to', 'Python']\n",
    "print('rev_words 2 =', rev_words)\n",
    "\n"
   ]
  },
  {
   "cell_type": "code",
   "execution_count": 146,
   "id": "4492731e",
   "metadata": {},
   "outputs": [
    {
     "name": "stdout",
     "output_type": "stream",
     "text": [
      "rev_map = <map object at 0x105b86c70>\n",
      "rev_words 1 = ['olleh', 'dna', 'emoclew', 'ot', 'ygatad']\n",
      "rev_words 2 = []\n"
     ]
    }
   ],
   "source": [
    "words = ['hello', 'and', 'welcome', 'to', 'datagy']\n",
    "\n",
    "def rev(s):\n",
    "    return s[::-1]\n",
    "\n",
    "rev_map = map(rev, words)\n",
    "print('rev_map =', rev_map)\n",
    "\n",
    "rev_words = list(rev_map)\n",
    "print('rev_words 1 =', rev_words)\n",
    "\n",
    "words = ['Hai', 'there', 'warm', 'welcome', 'to', 'Python']\n",
    "rev_words = list(rev_map)\n",
    "print('rev_words 2 =', rev_words)\n",
    "\n"
   ]
  },
  {
   "cell_type": "code",
   "execution_count": 147,
   "id": "71e9a422",
   "metadata": {},
   "outputs": [
    {
     "name": "stdout",
     "output_type": "stream",
     "text": [
      "rev_map = <map object at 0x105b96c10>\n",
      "rev_words 1 = ['olleh', 'dna', 'emoclew', 'ot', 'ygatad']\n",
      "rev_words 2 = []\n"
     ]
    }
   ],
   "source": [
    "words = ['hello', 'and', 'welcome', 'to', 'datagy']\n",
    "\n",
    "def rev(s):\n",
    "    return s[::-1]\n",
    "\n",
    "rev_map = map(rev, words)\n",
    "print('rev_map =', rev_map)\n",
    "\n",
    "rev_words = list(rev_map)\n",
    "print('rev_words 1 =', rev_words)\n",
    "\n",
    "#words = ['Hai', 'there', 'warm', 'welcome', 'to', 'Python']\n",
    "rev_words = list(rev_map)\n",
    "print('rev_words 2 =', rev_words)\n",
    "\n"
   ]
  },
  {
   "cell_type": "code",
   "execution_count": 149,
   "id": "bb9a1a64",
   "metadata": {},
   "outputs": [
    {
     "name": "stdout",
     "output_type": "stream",
     "text": [
      "rev_map = <map object at 0x105b96850>\n",
      "rev_words 1 = ['olleh', 'dna', 'emoclew', 'ot', 'ygatad']\n",
      "rev_words 2 = []\n"
     ]
    }
   ],
   "source": [
    "words = ['hello', 'and', 'welcome', 'to', 'datagy']\n",
    "\n",
    "def rev(s):\n",
    "    return s[::-1]\n",
    "\n",
    "rev_map = map(rev, words)\n",
    "print('rev_map =', rev_map)\n",
    "\n",
    "rev_words = list(rev_map)\n",
    "print('rev_words 1 =', rev_words)\n",
    "\n",
    "#words = ['Hai', 'there', 'warm', 'welcome', 'to', 'Python']\n",
    "rev_words = list(rev_map)\n",
    "print('rev_words 2 =', rev_words) # This is empty because the map is iterator\n",
    "\n"
   ]
  },
  {
   "cell_type": "code",
   "execution_count": 13,
   "id": "c0f06b6c",
   "metadata": {},
   "outputs": [
    {
     "name": "stdout",
     "output_type": "stream",
     "text": [
      "rev_map = <map object at 0x10aeee550>\n"
     ]
    },
    {
     "ename": "TypeError",
     "evalue": "rev() takes 1 positional argument but 3 were given",
     "output_type": "error",
     "traceback": [
      "\u001b[0;31m---------------------------------------------------------------------------\u001b[0m",
      "\u001b[0;31mTypeError\u001b[0m                                 Traceback (most recent call last)",
      "Cell \u001b[0;32mIn [13], line 12\u001b[0m\n\u001b[1;32m      9\u001b[0m rev_map \u001b[38;5;241m=\u001b[39m \u001b[38;5;28mmap\u001b[39m(rev, words_a, words_b, words_c)\n\u001b[1;32m     10\u001b[0m \u001b[38;5;28mprint\u001b[39m(\u001b[38;5;124m'\u001b[39m\u001b[38;5;124mrev_map =\u001b[39m\u001b[38;5;124m'\u001b[39m, rev_map)\n\u001b[0;32m---> 12\u001b[0m rev_words \u001b[38;5;241m=\u001b[39m \u001b[38;5;28;43mlist\u001b[39;49m\u001b[43m(\u001b[49m\u001b[43mrev_map\u001b[49m\u001b[43m)\u001b[49m\n\u001b[1;32m     13\u001b[0m \u001b[38;5;28mprint\u001b[39m(\u001b[38;5;124m'\u001b[39m\u001b[38;5;124mrev_words 1 =\u001b[39m\u001b[38;5;124m'\u001b[39m, rev_words)\n",
      "\u001b[0;31mTypeError\u001b[0m: rev() takes 1 positional argument but 3 were given"
     ]
    }
   ],
   "source": [
    "words_a = ['hello', 'and', 'welcome', 'to', 'datagy', '~~~']\n",
    "words_b = ['hi', 'I', 'am', 'Arul', 'Kumar', '!']\n",
    "words_c = ['How', 'are', 'you', 'Arul', 'Kumar', '?', 'additional entry']\n",
    "\n",
    "\n",
    "def rev(s_a):\n",
    "    return(s_a[::-1] + s_b[::-1] + s_c[::-1])\n",
    "\n",
    "rev_map = map(rev, words_a, words_b, words_c)\n",
    "print('rev_map =', rev_map)\n",
    "\n",
    "rev_words = list(rev_map)\n",
    "print('rev_words 1 =', rev_words)\n"
   ]
  },
  {
   "cell_type": "code",
   "execution_count": 14,
   "id": "372fbe57",
   "metadata": {},
   "outputs": [
    {
     "name": "stdout",
     "output_type": "stream",
     "text": [
      "rev_map = <map object at 0x10b02f580>\n",
      "rev_words 1 = ['ollehihwoH', 'dnaIera', 'emoclewmauoy', 'otlurAlurA', 'ygatadramuKramuK', '~~~!?']\n"
     ]
    }
   ],
   "source": [
    "words_a = ['hello', 'and', 'welcome', 'to', 'datagy', '~~~']\n",
    "words_b = ['hi', 'I', 'am', 'Arul', 'Kumar', '!']\n",
    "words_c = ['How', 'are', 'you', 'Arul', 'Kumar', '?', 'additional entry']\n",
    "\n",
    "\n",
    "def rev(s_a = '', s_b = '', s_c = ''):\n",
    "    return(s_a[::-1] + s_b[::-1] + s_c[::-1])\n",
    "\n",
    "rev_map = map(rev, words_a, words_b, words_c)\n",
    "print('rev_map =', rev_map)\n",
    "\n",
    "rev_words = list(rev_map)\n",
    "print('rev_words 1 =', rev_words)\n"
   ]
  },
  {
   "cell_type": "code",
   "execution_count": 12,
   "id": "0b00d203",
   "metadata": {},
   "outputs": [
    {
     "name": "stdout",
     "output_type": "stream",
     "text": [
      "rev_map = <map object at 0x10aed78e0>\n",
      "rev_words 1 = ['ollehihwoH', 'dnaIera', 'emoclewmauoy', 'otlurAlurA', 'ygatadramuKramuK', '~~~!?']\n"
     ]
    }
   ],
   "source": [
    "words_a = ['hello', 'and', 'welcome', 'to', 'datagy', '~~~']\n",
    "words_b = ['hi', 'I', 'am', 'Arul', 'Kumar', '!']\n",
    "words_c = ['How', 'are', 'you', 'Arul', 'Kumar', '?', 'additional entry']\n",
    "\n",
    "\n",
    "def rev(s_a, s_b, s_c):\n",
    "    return(s_a[::-1] + s_b[::-1] + s_c[::-1])\n",
    "\n",
    "rev_map = map(rev, words_a, words_b, words_c)\n",
    "print('rev_map =', rev_map)\n",
    "\n",
    "rev_words = list(rev_map)\n",
    "print('rev_words 1 =', rev_words)\n"
   ]
  },
  {
   "cell_type": "markdown",
   "id": "48173a4b",
   "metadata": {},
   "source": [
    "## Filter() functions..."
   ]
  },
  {
   "cell_type": "code",
   "execution_count": 21,
   "id": "3b343e94",
   "metadata": {},
   "outputs": [
    {
     "name": "stdout",
     "output_type": "stream",
     "text": [
      "list_vowels = <filter object at 0x10be71a60>\n"
     ]
    },
    {
     "ename": "NameError",
     "evalue": "name 'c' is not defined",
     "output_type": "error",
     "traceback": [
      "\u001b[0;31m---------------------------------------------------------------------------\u001b[0m",
      "\u001b[0;31mNameError\u001b[0m                                 Traceback (most recent call last)",
      "Cell \u001b[0;32mIn [21], line 11\u001b[0m\n\u001b[1;32m      9\u001b[0m list_vowels \u001b[38;5;241m=\u001b[39m \u001b[38;5;28mfilter\u001b[39m(is_vowel, str_a)\n\u001b[1;32m     10\u001b[0m \u001b[38;5;28mprint\u001b[39m(\u001b[38;5;124mf\u001b[39m\u001b[38;5;124m'\u001b[39m\u001b[38;5;124mlist_vowels = \u001b[39m\u001b[38;5;132;01m{\u001b[39;00mlist_vowels\u001b[38;5;132;01m}\u001b[39;00m\u001b[38;5;124m'\u001b[39m)\n\u001b[0;32m---> 11\u001b[0m \u001b[38;5;28mprint\u001b[39m(\u001b[38;5;124mf\u001b[39m\u001b[38;5;124m'\u001b[39m\u001b[38;5;124m[c in list_vowels] = \u001b[39m\u001b[38;5;132;01m{\u001b[39;00m[c \u001b[38;5;129;01min\u001b[39;00m list_vowels]\u001b[38;5;132;01m}\u001b[39;00m\u001b[38;5;124m'\u001b[39m)\n",
      "\u001b[0;31mNameError\u001b[0m: name 'c' is not defined"
     ]
    }
   ],
   "source": [
    "def is_vowel(c: chr) -> bool:\n",
    "    if c in ['a', 'e', 'i', 'o', 'u', 'A', 'E', 'I', 'O', 'U']:\n",
    "        return(True)\n",
    "    else:\n",
    "        return(False)\n",
    "\n",
    "str_a = 'Hai, how are you Arul Kumar !'\n",
    "\n",
    "list_vowels = filter(is_vowel, str_a)\n",
    "print(f'list_vowels = {list_vowels}')\n",
    "print(f'[c in list_vowels] = {[c in list_vowels]}')"
   ]
  },
  {
   "cell_type": "code",
   "execution_count": 22,
   "id": "7fdc9a97",
   "metadata": {},
   "outputs": [
    {
     "name": "stdout",
     "output_type": "stream",
     "text": [
      "list_vowels = <filter object at 0x10be71790>\n",
      "list(list_vowels) = ['a', 'i', 'o', 'a', 'e', 'o', 'u', 'A', 'u', 'u', 'a']\n"
     ]
    }
   ],
   "source": [
    "def is_vowel(c: chr) -> bool:\n",
    "    if c in ['a', 'e', 'i', 'o', 'u', 'A', 'E', 'I', 'O', 'U']:\n",
    "        return(True)\n",
    "    else:\n",
    "        return(False)\n",
    "\n",
    "str_a = 'Hai, how are you Arul Kumar !'\n",
    "\n",
    "list_vowels = filter(is_vowel, str_a)\n",
    "print(f'list_vowels = {list_vowels}')\n",
    "print(f'list(list_vowels) = {list(list_vowels)}')"
   ]
  },
  {
   "cell_type": "markdown",
   "id": "038c214a",
   "metadata": {},
   "source": [
    "## reduce( ) function"
   ]
  },
  {
   "cell_type": "code",
   "execution_count": 85,
   "id": "8cab8ae6",
   "metadata": {},
   "outputs": [
    {
     "ename": "TypeError",
     "evalue": "compute_rank() takes 1 positional argument but 2 were given",
     "output_type": "error",
     "traceback": [
      "\u001b[0;31m---------------------------------------------------------------------------\u001b[0m",
      "\u001b[0;31mTypeError\u001b[0m                                 Traceback (most recent call last)",
      "Cell \u001b[0;32mIn [85], line 14\u001b[0m\n\u001b[1;32m     10\u001b[0m     \u001b[38;5;28;01mreturn\u001b[39;00m(\u001b[38;5;241m20\u001b[39m)\n\u001b[1;32m     12\u001b[0m list_marks \u001b[38;5;241m=\u001b[39m [\u001b[38;5;241m25\u001b[39m, \u001b[38;5;241m55\u001b[39m, \u001b[38;5;241m85\u001b[39m, \u001b[38;5;241m95\u001b[39m, \u001b[38;5;241m100\u001b[39m]\n\u001b[0;32m---> 14\u001b[0m reduce_obj \u001b[38;5;241m=\u001b[39m \u001b[43mreduce\u001b[49m\u001b[43m(\u001b[49m\u001b[43mcompute_rank\u001b[49m\u001b[43m,\u001b[49m\u001b[43m \u001b[49m\u001b[43mlist_marks\u001b[49m\u001b[43m)\u001b[49m\n\u001b[1;32m     15\u001b[0m \u001b[38;5;28mprint\u001b[39m(\u001b[38;5;124mf\u001b[39m\u001b[38;5;124m'\u001b[39m\u001b[38;5;124mreduce_obj = \u001b[39m\u001b[38;5;132;01m{\u001b[39;00mreduce_obj\u001b[38;5;132;01m}\u001b[39;00m\u001b[38;5;124m'\u001b[39m)\n",
      "\u001b[0;31mTypeError\u001b[0m: compute_rank() takes 1 positional argument but 2 were given"
     ]
    }
   ],
   "source": [
    "from functools import reduce\n",
    "\n",
    "def compute_rank (mark: int) -> int:\n",
    "    if mark < 30:\n",
    "        return(5)\n",
    "    if mark < 60:\n",
    "        return(10)\n",
    "    if mark < 90:\n",
    "        return(15)\n",
    "    return(20)\n",
    "\n",
    "list_marks = [25, 55, 85, 95, 100]\n",
    "\n",
    "reduce_obj = reduce(compute_rank, list_marks)\n",
    "print(f'reduce_obj = {reduce_obj}')"
   ]
  },
  {
   "cell_type": "code",
   "execution_count": 89,
   "id": "cad1e93f",
   "metadata": {},
   "outputs": [
    {
     "name": "stdout",
     "output_type": "stream",
     "text": [
      "level = 0, mark = 25\n",
      "level = 5, mark = 55\n",
      "level = 15, mark = 85\n",
      "level = 30, mark = 95\n",
      "level = 50, mark = 100\n",
      "total_level = 70\n"
     ]
    }
   ],
   "source": [
    "from functools import reduce\n",
    "\n",
    "def compute_level (level: int, mark: int) -> int:\n",
    "    print(f'level = {level}, mark = {mark}')\n",
    "    if mark < 30:\n",
    "        return(level + 5)\n",
    "    if mark < 60:\n",
    "        return(level + 10)\n",
    "    if mark < 90:\n",
    "        return(level + 15)\n",
    "    return(level + 20)\n",
    "\n",
    "list_marks = [0, 25, 55, 85, 95, 100] # The first element at index 0 is a dummy one\n",
    "\n",
    "total_level = reduce(compute_level, list_marks)\n",
    "print(f'total_level = {total_level}')"
   ]
  },
  {
   "cell_type": "markdown",
   "id": "7ce485d0",
   "metadata": {},
   "source": [
    "## chr ( ) function     &     ord ( ) function - ordinal function"
   ]
  },
  {
   "cell_type": "code",
   "execution_count": 31,
   "id": "72c815b5",
   "metadata": {},
   "outputs": [
    {
     "name": "stdout",
     "output_type": "stream",
     "text": [
      "type(ca) = <class 'str'>\n",
      "type(cb) = <class 'str'>\n",
      "ca = h\n",
      "cb = h\n"
     ]
    }
   ],
   "source": [
    "ca = chr(ord('h'))\n",
    "cb = 'h'\n",
    "print(f'type(ca) = {type(ca)}')\n",
    "print(f'type(cb) = {type(cb)}')\n",
    "print(f'ca = {ca}')\n",
    "print(f'cb = {cb}')"
   ]
  },
  {
   "cell_type": "code",
   "execution_count": 32,
   "id": "7984d6fb",
   "metadata": {
    "scrolled": true
   },
   "outputs": [
    {
     "name": "stdout",
     "output_type": "stream",
     "text": [
      "type(ca) = <class 'int'>\n",
      "type(cb) = <class 'str'>\n",
      "ca = 104\n",
      "cb = h\n"
     ]
    }
   ],
   "source": [
    "ca = ord('h')\n",
    "cb = 'h'\n",
    "print(f'type(ca) = {type(ca)}')\n",
    "print(f'type(cb) = {type(cb)}')\n",
    "print(f'ca = {ca}')\n",
    "print(f'cb = {cb}')"
   ]
  },
  {
   "cell_type": "code",
   "execution_count": 41,
   "id": "e1b6cc12",
   "metadata": {
    "scrolled": true
   },
   "outputs": [
    {
     "name": "stdout",
     "output_type": "stream",
     "text": [
      "ord('A') = 65\n",
      "ord('a') = 97\n",
      "ord('अ'') = 2309\n",
      "ord('அ') = 2949\n",
      "ord('అ') = 3077\n",
      "ord('ಅ') = 3205\n",
      "ord('അ') = 3333\n"
     ]
    }
   ],
   "source": [
    "print(f\"ord('A') = {ord('A')}\")\n",
    "print(f\"ord('a') = {ord('a')}\")\n",
    "print(f\"ord('अ'') = {ord('अ')}\")\t# Hindi\n",
    "print(f\"ord('அ') = {ord('அ')}\")\t\t# Tamil\n",
    "print(f\"ord('అ') = {ord('అ')}\")\t\t# Telegu\n",
    "print(f\"ord('ಅ') = {ord('ಅ')}\")\t\t# Kannada\n",
    "print(f\"ord('അ') = {ord('അ')}\")\t# Malayalam"
   ]
  },
  {
   "cell_type": "markdown",
   "id": "b2755b0b",
   "metadata": {},
   "source": [
    "## Array initilization - integer"
   ]
  },
  {
   "cell_type": "code",
   "execution_count": 70,
   "id": "eb15e817",
   "metadata": {},
   "outputs": [
    {
     "ename": "NameError",
     "evalue": "name 'v' is not defined",
     "output_type": "error",
     "traceback": [
      "\u001b[0;31m---------------------------------------------------------------------------\u001b[0m",
      "\u001b[0;31mNameError\u001b[0m                                 Traceback (most recent call last)",
      "Cell \u001b[0;32mIn [70], line 2\u001b[0m\n\u001b[1;32m      1\u001b[0m num \u001b[38;5;241m=\u001b[39m \u001b[38;5;241m20\u001b[39m\n\u001b[0;32m----> 2\u001b[0m list_gen \u001b[38;5;241m=\u001b[39m [v \u001b[38;5;28;01mfor\u001b[39;00m element \u001b[38;5;129;01min\u001b[39;00m \u001b[38;5;28mrange\u001b[39m(num)]\n\u001b[1;32m      3\u001b[0m \u001b[38;5;28mprint\u001b[39m(\u001b[38;5;124mf\u001b[39m\u001b[38;5;124m'\u001b[39m\u001b[38;5;124mlist_gen = \u001b[39m\u001b[38;5;132;01m{\u001b[39;00m\u001b[38;5;28mstr\u001b[39m(list_gen)\u001b[38;5;132;01m}\u001b[39;00m\u001b[38;5;124m'\u001b[39m)\n",
      "Cell \u001b[0;32mIn [70], line 2\u001b[0m, in \u001b[0;36m<listcomp>\u001b[0;34m(.0)\u001b[0m\n\u001b[1;32m      1\u001b[0m num \u001b[38;5;241m=\u001b[39m \u001b[38;5;241m20\u001b[39m\n\u001b[0;32m----> 2\u001b[0m list_gen \u001b[38;5;241m=\u001b[39m [\u001b[43mv\u001b[49m \u001b[38;5;28;01mfor\u001b[39;00m element \u001b[38;5;129;01min\u001b[39;00m \u001b[38;5;28mrange\u001b[39m(num)]\n\u001b[1;32m      3\u001b[0m \u001b[38;5;28mprint\u001b[39m(\u001b[38;5;124mf\u001b[39m\u001b[38;5;124m'\u001b[39m\u001b[38;5;124mlist_gen = \u001b[39m\u001b[38;5;132;01m{\u001b[39;00m\u001b[38;5;28mstr\u001b[39m(list_gen)\u001b[38;5;132;01m}\u001b[39;00m\u001b[38;5;124m'\u001b[39m)\n",
      "\u001b[0;31mNameError\u001b[0m: name 'v' is not defined"
     ]
    }
   ],
   "source": [
    "num = 20\n",
    "list_gen = [v for element in range(num)]\n",
    "print(f'list_gen = {str(list_gen)}')"
   ]
  },
  {
   "cell_type": "code",
   "execution_count": 74,
   "id": "a5565c72",
   "metadata": {},
   "outputs": [
    {
     "name": "stdout",
     "output_type": "stream",
     "text": [
      "value = 20\n",
      "list_gen = [31, 31, 31, 31, 31, 31, 31, 31, 31, 31, 31, 31, 31, 31, 31, 31, 31, 31, 31, 31]\n"
     ]
    }
   ],
   "source": [
    "print(f'value = {value}')\n",
    "num = 20\n",
    "list_gen = [31 for element in range(num)]\n",
    "print(f'list_gen = {str(list_gen)}')"
   ]
  },
  {
   "cell_type": "code",
   "execution_count": 72,
   "id": "9c7ade7f",
   "metadata": {},
   "outputs": [
    {
     "name": "stdout",
     "output_type": "stream",
     "text": [
      "list_gen = [20, 20, 20, 20, 20, 20, 20, 20, 20, 20, 20, 20, 20, 20, 20, 20, 20, 20, 20, 20, 20, 20, 20, 20, 20]\n"
     ]
    }
   ],
   "source": [
    "num = 25\n",
    "list_gen = [value for element in range(num)]\n",
    "print(f'list_gen = {str(list_gen)}')"
   ]
  },
  {
   "cell_type": "code",
   "execution_count": 80,
   "id": "d3666843",
   "metadata": {},
   "outputs": [
    {
     "name": "stdout",
     "output_type": "stream",
     "text": [
      "list_gen = ['', '', '', '', '', '', '', '', '', '', '', '', '', '', '', '', '', '', '', '', '', '', '', '', '', '', '', '', '', '', '', '', '', '', '', '', '', '', '', '', '', '', '', '', '', '', '', '', '', '', '', '', '', '', '', '', '', '', '', '', '', '', '', '', '', '', '', '', '', '', '', '', '', '', '', '', '', '', '', '', '', '', '', '', '', '', '', '', '', '', '', '', '', '', '', '', '', '', '', '', '', '', '', '', '', '', '', '', '', '', '', '', '', '', '', '', '', '', '', '', '', '', '', '', '', '', '', '', '', '', '', '', '', '', '', '', '', '', '', '', '', '', '', '', '', '', '', '', '', '', '', '', '', '', '', '', '', '', '', '', '', '', '', '', '', '', '', '', '', '', '', '', '', '', '', '', '', '', '', '', '', '', '', '', '', '', '', '', '', '', '', '', '', '', '', '', '', '', '', '', '', '', '', '', '', '', '', '', '', '', '', '', '', '', '', '', '', '', '', '', '', '', '', '', '', '', '', '', '', '', '', '', '', '', '', '', '', '', '', '', '', '', '', '', '', '', '', '', '', '', '', '', '', '', '', '', '', '', '', '', '', '', '', '', '', '', '', '', '', '', '', '', '', '', '', '', '', '', '', '', '', '', '', '', '', '', '', '', '', '', '', '', '', '', '', '', '', '', '', '', '', '', '', '', '', '', '', '', '', '', '', '', '', '', '', '', '', '', '', '', '', '', '', '', '', '', '', '', '', '', '', '', '', '', '', '', '', '', '', '', '', '', '', '', '', '', '', '', '', '', '', '', '', '', '', '', '', '', '', '', '', '', '', '', '', '', '', '', '', '', '', '', '', '', '', '', '', '', '', '', '', '', '', '', '', '', '', '', '', '', '', '', '', '', '', '', '', '', '', '', '', '', '', '', '', '', '', '', '', '', '', '', '', '', '', '', '', '', '', '', '', '', '', '', '', '', '', '', '', '', '', '', '', '', '', '', '', '', '', '', '', '', '', '', '', '', '', '', '', '', '', '', '', '', '', '', '', '', '', '', '', '', '', '', '', '', '', '', '', '', '', '', '', '', '', '', '', '', '', '', '', '', '', '', '', '', '', '', '', '', '', '', '', '', '', '', '', '', '', '', '', '', '', '', '', '', '', '', '', '', '', '', '', '', '', '', '', '', '', '', '', '', '', '', '', '', '', '', '', '', '', '', '', '', '', '', '', '', '', '', '', '', '', '', '', '', '', '', '', '', '', '', '', '', '', '', '', '', '', '', '', '', '', '', '', '', '', '', '', '', '', '', '', '', '', '', '', '', '', '', '', '', '', '', '', '', '', '', '', '', '', '', '', '', '', '', '', '', '', '', '', '', '', '', '', '', '', '', '', '', '', '', '', '', '', '', '', '', '', '', '', '', '', '', '', '', '', '', '', '', '', '', '', '', '', '', '', '', '', '', '', '', '', '', '', '', '', '', '', '', '', '', '', '', '', '', '', '', '', '', '', '', '', '', '', '', '', '', '', '', '', '', '', '', '', '', '', '', '', '', '', '', '', '', '', '', '', '', '', '', '', '', '', '', '', '', '', '', '', '', '', '', '', '', '', '', '', '', '', '', '', '', '', '', '', '', '', '', '', '']\n"
     ]
    }
   ],
   "source": [
    "from math import factorial\n",
    "list_gen = ['' for element in range(factorial(6))]\n",
    "print(f'list_gen = {str(list_gen)}')"
   ]
  },
  {
   "cell_type": "markdown",
   "id": "db92e2e3",
   "metadata": {},
   "source": [
    "## String Permutations"
   ]
  },
  {
   "cell_type": "code",
   "execution_count": 81,
   "id": "a69aba91",
   "metadata": {
    "scrolled": true
   },
   "outputs": [
    {
     "name": "stdout",
     "output_type": "stream",
     "text": [
      "oleh\tloeh\toelh\teolh\tleoh\teloh\tolhe\tlohe\tohle\thole\tlhoe\thloe\toehl\teohl\tohel\thoel\tehol\theol\tleho\telho\tlheo\thleo\tehlo\thelo\t"
     ]
    }
   ],
   "source": [
    "def permutation (str_in: str, str_prefix: str):\n",
    "    str_len = len(str_in)\n",
    "    if not str_len:\n",
    "        print(str_prefix, end = '\\t')\n",
    "    else:\n",
    "        for i in range(str_len):\n",
    "            str_rem = str_in[0:i] + str_in[i+1:]\n",
    "            #print(f'str_in = {str_in} : i = {i} : permutation ({str_in}, {str_prefix}) : str_rem = {str_rem}')\n",
    "            permutation(str_rem, str_in[i] + str_prefix)\n",
    "\n",
    "#permutation('helowdy', '') \n",
    "#permutation('helowr', '')\n",
    "permutation('helo', '')"
   ]
  },
  {
   "cell_type": "code",
   "execution_count": 66,
   "id": "e4c71ac1",
   "metadata": {
    "scrolled": true
   },
   "outputs": [
    {
     "name": "stdout",
     "output_type": "stream",
     "text": [
      "str_in = helo : i = 0 : permutation (helo, ) : str_rem = elo\n",
      "str_in = elo : i = 0 : permutation (elo, h) : str_rem = lo\n",
      "str_in = lo : i = 0 : permutation (lo, eh) : str_rem = o\n",
      "str_in = o : i = 0 : permutation (o, leh) : str_rem = \n",
      "oleh\n",
      "str_in = lo : i = 1 : permutation (lo, eh) : str_rem = l\n",
      "str_in = l : i = 0 : permutation (l, oeh) : str_rem = \n",
      "loeh\n",
      "str_in = elo : i = 1 : permutation (elo, h) : str_rem = eo\n",
      "str_in = eo : i = 0 : permutation (eo, lh) : str_rem = o\n",
      "str_in = o : i = 0 : permutation (o, elh) : str_rem = \n",
      "oelh\n",
      "str_in = eo : i = 1 : permutation (eo, lh) : str_rem = e\n",
      "str_in = e : i = 0 : permutation (e, olh) : str_rem = \n",
      "eolh\n",
      "str_in = elo : i = 2 : permutation (elo, h) : str_rem = el\n",
      "str_in = el : i = 0 : permutation (el, oh) : str_rem = l\n",
      "str_in = l : i = 0 : permutation (l, eoh) : str_rem = \n",
      "leoh\n",
      "str_in = el : i = 1 : permutation (el, oh) : str_rem = e\n",
      "str_in = e : i = 0 : permutation (e, loh) : str_rem = \n",
      "eloh\n",
      "str_in = helo : i = 1 : permutation (helo, ) : str_rem = hlo\n",
      "str_in = hlo : i = 0 : permutation (hlo, e) : str_rem = lo\n",
      "str_in = lo : i = 0 : permutation (lo, he) : str_rem = o\n",
      "str_in = o : i = 0 : permutation (o, lhe) : str_rem = \n",
      "olhe\n",
      "str_in = lo : i = 1 : permutation (lo, he) : str_rem = l\n",
      "str_in = l : i = 0 : permutation (l, ohe) : str_rem = \n",
      "lohe\n",
      "str_in = hlo : i = 1 : permutation (hlo, e) : str_rem = ho\n",
      "str_in = ho : i = 0 : permutation (ho, le) : str_rem = o\n",
      "str_in = o : i = 0 : permutation (o, hle) : str_rem = \n",
      "ohle\n",
      "str_in = ho : i = 1 : permutation (ho, le) : str_rem = h\n",
      "str_in = h : i = 0 : permutation (h, ole) : str_rem = \n",
      "hole\n",
      "str_in = hlo : i = 2 : permutation (hlo, e) : str_rem = hl\n",
      "str_in = hl : i = 0 : permutation (hl, oe) : str_rem = l\n",
      "str_in = l : i = 0 : permutation (l, hoe) : str_rem = \n",
      "lhoe\n",
      "str_in = hl : i = 1 : permutation (hl, oe) : str_rem = h\n",
      "str_in = h : i = 0 : permutation (h, loe) : str_rem = \n",
      "hloe\n",
      "str_in = helo : i = 2 : permutation (helo, ) : str_rem = heo\n",
      "str_in = heo : i = 0 : permutation (heo, l) : str_rem = eo\n",
      "str_in = eo : i = 0 : permutation (eo, hl) : str_rem = o\n",
      "str_in = o : i = 0 : permutation (o, ehl) : str_rem = \n",
      "oehl\n",
      "str_in = eo : i = 1 : permutation (eo, hl) : str_rem = e\n",
      "str_in = e : i = 0 : permutation (e, ohl) : str_rem = \n",
      "eohl\n",
      "str_in = heo : i = 1 : permutation (heo, l) : str_rem = ho\n",
      "str_in = ho : i = 0 : permutation (ho, el) : str_rem = o\n",
      "str_in = o : i = 0 : permutation (o, hel) : str_rem = \n",
      "ohel\n",
      "str_in = ho : i = 1 : permutation (ho, el) : str_rem = h\n",
      "str_in = h : i = 0 : permutation (h, oel) : str_rem = \n",
      "hoel\n",
      "str_in = heo : i = 2 : permutation (heo, l) : str_rem = he\n",
      "str_in = he : i = 0 : permutation (he, ol) : str_rem = e\n",
      "str_in = e : i = 0 : permutation (e, hol) : str_rem = \n",
      "ehol\n",
      "str_in = he : i = 1 : permutation (he, ol) : str_rem = h\n",
      "str_in = h : i = 0 : permutation (h, eol) : str_rem = \n",
      "heol\n",
      "str_in = helo : i = 3 : permutation (helo, ) : str_rem = hel\n",
      "str_in = hel : i = 0 : permutation (hel, o) : str_rem = el\n",
      "str_in = el : i = 0 : permutation (el, ho) : str_rem = l\n",
      "str_in = l : i = 0 : permutation (l, eho) : str_rem = \n",
      "leho\n",
      "str_in = el : i = 1 : permutation (el, ho) : str_rem = e\n",
      "str_in = e : i = 0 : permutation (e, lho) : str_rem = \n",
      "elho\n",
      "str_in = hel : i = 1 : permutation (hel, o) : str_rem = hl\n",
      "str_in = hl : i = 0 : permutation (hl, eo) : str_rem = l\n",
      "str_in = l : i = 0 : permutation (l, heo) : str_rem = \n",
      "lheo\n",
      "str_in = hl : i = 1 : permutation (hl, eo) : str_rem = h\n",
      "str_in = h : i = 0 : permutation (h, leo) : str_rem = \n",
      "hleo\n",
      "str_in = hel : i = 2 : permutation (hel, o) : str_rem = he\n",
      "str_in = he : i = 0 : permutation (he, lo) : str_rem = e\n",
      "str_in = e : i = 0 : permutation (e, hlo) : str_rem = \n",
      "ehlo\n",
      "str_in = he : i = 1 : permutation (he, lo) : str_rem = h\n",
      "str_in = h : i = 0 : permutation (h, elo) : str_rem = \n",
      "helo\n"
     ]
    }
   ],
   "source": [
    "def permutation (str_in: str, str_prefix: str):\n",
    "    str_len = len(str_in)\n",
    "    if not str_len:\n",
    "        print(str_prefix, end = '\\n')\n",
    "    else:\n",
    "        for i in range(str_len):\n",
    "            str_rem = str_in[0:i] + str_in[i+1:]\n",
    "            print(f'str_in = {str_in} : i = {i} : permutation ({str_in}, {str_prefix}) : str_rem = {str_rem}')\n",
    "            permutation(str_rem, str_in[i] + str_prefix)\n",
    "\n",
    "#permutation('helowdy', '') \n",
    "#permutation('helowr', '')\n",
    "permutation('helo', '')"
   ]
  },
  {
   "cell_type": "code",
   "execution_count": 82,
   "id": "47b3b5ee",
   "metadata": {
    "scrolled": true
   },
   "outputs": [
    {
     "name": "stdout",
     "output_type": "stream",
     "text": [
      "helo\theol\thleo\thloe\thoel\thole\tehlo\tehol\telho\teloh\teohl\teolh\tlheo\tlhoe\tleho\tleoh\tlohe\tloeh\tohel\tohle\toehl\toelh\tolhe\toleh\t"
     ]
    }
   ],
   "source": [
    "def permutation (str_in: str, str_prefix: str):\n",
    "    str_len = len(str_in)\n",
    "    if not str_len:\n",
    "        print(str_prefix, end = '\\t')\n",
    "    else:\n",
    "        for i in range(str_len):\n",
    "            str_rem = str_in[0:i] + str_in[i+1:]\n",
    "            #print(f'str_in = {str_in} : i = {i} : permutation ({str_in}, {str_prefix}) : str_rem = {str_rem}')\n",
    "            permutation(str_rem, str_prefix + str_in[i])\n",
    "\n",
    "#permutation('helowdy', '') \n",
    "#permutation('helowr', '')\n",
    "permutation('helo', '')"
   ]
  },
  {
   "cell_type": "markdown",
   "id": "66009025",
   "metadata": {},
   "source": [
    "## Generator function"
   ]
  },
  {
   "cell_type": "markdown",
   "id": "adb5798b",
   "metadata": {},
   "source": [
    "Implement range_arul() similar to range() function"
   ]
  },
  {
   "cell_type": "code",
   "execution_count": 155,
   "id": "a1e1132e",
   "metadata": {},
   "outputs": [
    {
     "name": "stdout",
     "output_type": "stream",
     "text": [
      "<generator object range_arul at 0x105bab7b0>\n"
     ]
    }
   ],
   "source": [
    "def range_arul(arg1: int, arg2: int = None, arg3: int = None):\n",
    "    step = arg3 if arg3 else 1\n",
    "    if arg2:\n",
    "        start = arg1\n",
    "        stop = arg2\n",
    "    else:\n",
    "        start = 0\n",
    "        stop = arg1\n",
    "    num = start\n",
    "    while num != stop:\n",
    "        yield(num)\n",
    "        num += step\n",
    "        \n",
    "print(range_arul(10))"
   ]
  },
  {
   "cell_type": "code",
   "execution_count": 7,
   "id": "5428c22f",
   "metadata": {},
   "outputs": [
    {
     "name": "stdout",
     "output_type": "stream",
     "text": [
      "range_arul(10) = None\n",
      "arg1 = 10, arg2 = None, arg3 = None\n",
      "start = 0, stop = 10, step = 1\n",
      "range_arul(10, 20) = None\n",
      "arg1 = 10, arg2 = 20, arg3 = None\n",
      "start = 10, stop = 20, step = 1\n",
      "range_arul(10, 40, 3) = None\n",
      "arg1 = 10, arg2 = 40, arg3 = 3\n",
      "start = 10, stop = 40, step = 3\n",
      "range_arul(100, 0, -5) = None\n",
      "arg1 = 100, arg2 = 0, arg3 = -5\n",
      "start = 100, stop = 0, step = -5\n"
     ]
    }
   ],
   "source": [
    "def range_arul(arg1: int, arg2: int = None, arg3: int = None):\n",
    "    \n",
    "    print(f'arg1 = {arg1}, arg2 = {arg2}, arg3 = {arg3}')\n",
    "    \n",
    "    step = arg3 if arg3 != None else 1\n",
    "    \n",
    "    if arg2 != None:\n",
    "        start = arg1\n",
    "        stop = arg2\n",
    "    else:\n",
    "        start = 0\n",
    "        stop = arg1\n",
    "\n",
    "    print(f'start = {start}, stop = {stop}, step = {step}')\n",
    "\n",
    "    num = start\n",
    "    return\n",
    "    while num != stop:\n",
    "        #yield(num)\n",
    "        num += step\n",
    "\n",
    "\n",
    "la = None\n",
    "#la = [x for x in range_arul(10)]\n",
    "print('range_arul(10) =', la)\n",
    "range_arul(10)\n",
    "\n",
    "#la = [x for x in range_arul(10, 20)]\n",
    "print('range_arul(10, 20) =', la)\n",
    "range_arul(10, 20)\n",
    "\n",
    "#la = [x for x in range_arul(10, 40, 3)]\n",
    "print('range_arul(10, 40, 3) =', la)\n",
    "range_arul(10, 40, 3)\n",
    "\n",
    "#la = [x for x in range_arul(100, 0, -5)]\n",
    "print('range_arul(100, 0, -5) =', la)\n",
    "range_arul(100, 0, -5)\n"
   ]
  },
  {
   "cell_type": "code",
   "execution_count": 8,
   "id": "f1ce32a7",
   "metadata": {},
   "outputs": [
    {
     "name": "stdout",
     "output_type": "stream",
     "text": [
      "arg1 = 10, arg2 = None, arg3 = None\n",
      "start = 0, stop = 10, step = 1\n",
      "range_arul(10) = [0, 1, 2, 3, 4, 5, 6, 7, 8, 9]\n",
      "arg1 = 10, arg2 = 20, arg3 = None\n",
      "start = 10, stop = 20, step = 1\n",
      "range_arul(10, 20) = [10, 11, 12, 13, 14, 15, 16, 17, 18, 19]\n",
      "arg1 = 10, arg2 = 40, arg3 = 3\n",
      "start = 10, stop = 40, step = 3\n",
      "range_arul(10, 40, 3) = [10, 13, 16, 19, 22, 25, 28, 31, 34, 37]\n",
      "arg1 = 100, arg2 = 0, arg3 = -5\n",
      "start = 100, stop = 0, step = -5\n",
      "range_arul(100, 0, -5) = [100, 95, 90, 85, 80, 75, 70, 65, 60, 55, 50, 45, 40, 35, 30, 25, 20, 15, 10, 5]\n"
     ]
    }
   ],
   "source": [
    "def range_arul(arg1: int, arg2: int = None, arg3: int = None):\n",
    "    print(f'arg1 = {arg1}, arg2 = {arg2}, arg3 = {arg3}')\n",
    "    step = arg3 if arg3 != None else 1\n",
    "    if arg2 != None:\n",
    "        start = arg1\n",
    "        stop = arg2\n",
    "    else:\n",
    "        start = 0\n",
    "        stop = arg1\n",
    "    print(f'start = {start}, stop = {stop}, step = {step}')\n",
    "    num = start\n",
    "    while num != stop:\n",
    "        yield(num)\n",
    "        num += step\n",
    "\n",
    "\n",
    "la = [x for x in range_arul(10)]\n",
    "print('range_arul(10) =', la)\n",
    "\n",
    "la = [x for x in range_arul(10, 20)]\n",
    "print('range_arul(10, 20) =', la)\n",
    "\n",
    "la = [x for x in range_arul(10, 40, 3)]\n",
    "print('range_arul(10, 40, 3) =', la)\n",
    "\n",
    "la = [x for x in range_arul(100, 0, -5)]\n",
    "print('range_arul(100, 0, -5) =', la)\n"
   ]
  },
  {
   "cell_type": "code",
   "execution_count": null,
   "id": "e2002912",
   "metadata": {},
   "outputs": [],
   "source": []
  }
 ],
 "metadata": {
  "kernelspec": {
   "display_name": "Python 3 (ipykernel)",
   "language": "python",
   "name": "python3"
  },
  "language_info": {
   "codemirror_mode": {
    "name": "ipython",
    "version": 3
   },
   "file_extension": ".py",
   "mimetype": "text/x-python",
   "name": "python",
   "nbconvert_exporter": "python",
   "pygments_lexer": "ipython3",
   "version": "3.9.6"
  }
 },
 "nbformat": 4,
 "nbformat_minor": 5
}
