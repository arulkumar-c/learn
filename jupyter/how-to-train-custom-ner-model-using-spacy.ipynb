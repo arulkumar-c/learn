{
 "cells": [
  {
   "cell_type": "markdown",
   "id": "574836f0",
   "metadata": {},
   "source": [
    "# How to Train Custom Named Entity Recognition (NER) Model Using SpaCy"
   ]
  },
  {
   "cell_type": "code",
   "execution_count": 1,
   "id": "3ef21410",
   "metadata": {},
   "outputs": [
    {
     "name": "stderr",
     "output_type": "stream",
     "text": [
      "2022-11-12 14:19:41.510691: I tensorflow/core/platform/cpu_feature_guard.cc:193] This TensorFlow binary is optimized with oneAPI Deep Neural Network Library (oneDNN) to use the following CPU instructions in performance-critical operations:  AVX2 FMA\n",
      "To enable them in other operations, rebuild TensorFlow with the appropriate compiler flags.\n"
     ]
    },
    {
     "data": {
      "text/plain": [
       "['tok2vec', 'tagger', 'parser', 'attribute_ruler', 'lemmatizer', 'ner']"
      ]
     },
     "execution_count": 1,
     "metadata": {},
     "output_type": "execute_result"
    }
   ],
   "source": [
    "import spacy\n",
    "\n",
    "nlp=spacy.load('en_core_web_sm')\n",
    "nlp.pipe_names"
   ]
  },
  {
   "cell_type": "code",
   "execution_count": 16,
   "id": "2ff3d068",
   "metadata": {
    "scrolled": false
   },
   "outputs": [
    {
     "data": {
      "text/plain": [
       "'India that previously comprised only a handful of players in the e-commerce space, \\nis now home to many biggies and giants battling out with each other to reach the top. This is thanks \\nto the overwhelming internet and smartphone penetration coupled with the ever-increasing digital adoption \\nacross the country. These new-age innovations not only gave emerging startups a unique platform to deliver \\nseamless shopping experiences but also provided brick and mortar stores with a level-playing field to \\nbegin their online journeys without leaving their offline legacies. European authorities fined Google \\na record $5.1 billion on Wednesday for abusing its power in the mobile phone market and ordered the \\ncompany to alter its practices. Prime Minister Jacinda Ardern has claimed that New Zealand had won a \\nbig battle over the spread of coronavirus. Her words came as the country begins to exit from its lockdown. \\nnever-seen transformation to the current e-commerce ecosystem while addressing all the existing e-commerce \\nworries such as counterfeiting. Tamilnadu have got a new cheif minister from DMK, Mr. M K Stalin who hiered IT\\nminster, Mr. Ponu from Bank of America CFO who was friend of Lady Diana and Queen Mother. This is edited by Arul Kumar C from place called Salem, in Tamilnadu state.\\n\\nNayanthara married Vignesh and the couple have a twin babies from surragacy. The named the new borns as Krish and Lavan\\n'"
      ]
     },
     "execution_count": 16,
     "metadata": {},
     "output_type": "execute_result"
    }
   ],
   "source": [
    "article_text=\"\"\"India that previously comprised only a handful of players in the e-commerce space, \n",
    "is now home to many biggies and giants battling out with each other to reach the top. This is thanks \n",
    "to the overwhelming internet and smartphone penetration coupled with the ever-increasing digital adoption \n",
    "across the country. These new-age innovations not only gave emerging startups a unique platform to deliver \n",
    "seamless shopping experiences but also provided brick and mortar stores with a level-playing field to \n",
    "begin their online journeys without leaving their offline legacies. European authorities fined Google \n",
    "a record $5.1 billion on Wednesday for abusing its power in the mobile phone market and ordered the \n",
    "company to alter its practices. Prime Minister Jacinda Ardern has claimed that New Zealand had won a \n",
    "big battle over the spread of coronavirus. Her words came as the country begins to exit from its lockdown. \n",
    "never-seen transformation to the current e-commerce ecosystem while addressing all the existing e-commerce \n",
    "worries such as counterfeiting. Tamilnadu have got a new cheif minister from DMK, Mr. M K Stalin who hiered IT\n",
    "minster, Mr. Ponu from Bank of America CFO who was friend of Lady Diana and Queen Mother. This is edited by Arul Kumar C from place called Salem, in Tamilnadu state.\n",
    "\n",
    "Nayanthara married Vignesh and the couple have a twin babies from surragacy. The named the new borns as Krish and Lavan\n",
    "\"\"\"\n",
    "\n",
    "article_text"
   ]
  },
  {
   "cell_type": "code",
   "execution_count": 17,
   "id": "3062d5ba",
   "metadata": {
    "scrolled": false
   },
   "outputs": [
    {
     "name": "stdout",
     "output_type": "stream",
     "text": [
      "GPE \t India\n",
      "NORP \t European\n",
      "ORG \t Google\n",
      "MONEY \t $5.1 billion\n",
      "DATE \t Wednesday\n",
      "PERSON \t Jacinda Ardern\n",
      "GPE \t New Zealand\n",
      "ORG \t DMK\n",
      "PERSON \t M K Stalin\n",
      "PERSON \t Ponu\n",
      "ORG \t Bank of America CFO\n",
      "PERSON \t Lady Diana\n",
      "PERSON \t Queen Mother\n",
      "PERSON \t Arul Kumar C\n",
      "GPE \t Salem\n",
      "ORG \t Tamilnadu\n",
      "PERSON \t Nayanthara\n",
      "PERSON \t Vignesh\n",
      "NORP \t Krish\n",
      "ORG \t Lavan\n",
      "\n"
     ]
    }
   ],
   "source": [
    "doc=nlp(article_text)\n",
    "\n",
    "for ent in doc.ents:\n",
    "    print(ent.label_, '\\t', ent.text)"
   ]
  }
 ],
 "metadata": {
  "kernelspec": {
   "display_name": "Python 3 (ipykernel)",
   "language": "python",
   "name": "python3"
  },
  "language_info": {
   "codemirror_mode": {
    "name": "ipython",
    "version": 3
   },
   "file_extension": ".py",
   "mimetype": "text/x-python",
   "name": "python",
   "nbconvert_exporter": "python",
   "pygments_lexer": "ipython3",
   "version": "3.9.6"
  }
 },
 "nbformat": 4,
 "nbformat_minor": 5
}
