{
 "cells": [
  {
   "cell_type": "code",
   "execution_count": 4,
   "id": "2e8fdb03-7b49-421e-8200-a50fb742c35f",
   "metadata": {},
   "outputs": [
    {
     "ename": "SyntaxError",
     "evalue": "invalid syntax (1207322950.py, line 1)",
     "output_type": "error",
     "traceback": [
      "\u001b[0;36m  Cell \u001b[0;32mIn [4], line 1\u001b[0;36m\u001b[0m\n\u001b[0;31m    python3 add.py\u001b[0m\n\u001b[0m            ^\u001b[0m\n\u001b[0;31mSyntaxError\u001b[0m\u001b[0;31m:\u001b[0m invalid syntax\n"
     ]
    }
   ],
   "source": [
    "python3 add.py"
   ]
  },
  {
   "cell_type": "code",
   "execution_count": 3,
   "id": "36a0494c-8fa8-476a-90d6-a01ffc6e89e6",
   "metadata": {},
   "outputs": [
    {
     "name": "stdout",
     "output_type": "stream",
     "text": [
      "\u001b[34mApplications\u001b[m\u001b[m/            \u001b[34mMovies\u001b[m\u001b[m/                  delete.txt\n",
      "\u001b[34mBox Sync\u001b[m\u001b[m/                \u001b[34mMusic\u001b[m\u001b[m/                   \u001b[34mgit\u001b[m\u001b[m/\n",
      "\u001b[34mDesktop\u001b[m\u001b[m/                 \u001b[34mPictures\u001b[m\u001b[m/                \u001b[34miApplications\u001b[m\u001b[m/\n",
      "\u001b[34mDocuments\u001b[m\u001b[m/               \u001b[34mPublic\u001b[m\u001b[m/                  \u001b[34mlearn\u001b[m\u001b[m/\n",
      "\u001b[34mDownloads\u001b[m\u001b[m/               Untitled.ipynb           \u001b[34mlog\u001b[m\u001b[m/\n",
      "Large-Files.savedSearch  add.py                   \u001b[34mtools\u001b[m\u001b[m/\n",
      "\u001b[34mLibrary\u001b[m\u001b[m/                 \u001b[34maws\u001b[m\u001b[m/                     \u001b[34mtools-misc\u001b[m\u001b[m/\n"
     ]
    }
   ],
   "source": [
    "ls"
   ]
  },
  {
   "cell_type": "code",
   "execution_count": null,
   "id": "d0c60984-822b-415f-a935-cff9e20490e8",
   "metadata": {},
   "outputs": [],
   "source": []
  }
 ],
 "metadata": {
  "kernelspec": {
   "display_name": "Python 3 (ipykernel)",
   "language": "python",
   "name": "python3"
  },
  "language_info": {
   "codemirror_mode": {
    "name": "ipython",
    "version": 3
   },
   "file_extension": ".py",
   "mimetype": "text/x-python",
   "name": "python",
   "nbconvert_exporter": "python",
   "pygments_lexer": "ipython3",
   "version": "3.9.6"
  }
 },
 "nbformat": 4,
 "nbformat_minor": 5
}
